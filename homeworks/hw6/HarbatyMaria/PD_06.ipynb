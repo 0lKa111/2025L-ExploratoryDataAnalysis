{
 "cells": [
  {
   "cell_type": "markdown",
   "id": "b0454764-6408-469b-93c8-1bc466bcaa32",
   "metadata": {},
   "source": [
    "Praca domowa 6"
   ]
  },
  {
   "cell_type": "code",
   "execution_count": null,
   "id": "d9a18fe3-ba9d-4ca4-afad-bc6a9a45b610",
   "metadata": {},
   "outputs": [],
   "source": [
    "import kagglehub\n",
    "import matplotlib.pyplot as plt\n",
    "import seaborn as sns\n",
    "\n",
    "# Download latest version\n",
    "path = kagglehub.dataset_download(\"srgiomanhes/steam-games-dataset-2025\")\n",
    "\n",
    "print(\"Path to dataset files:\", path)"
   ]
  },
  {
   "cell_type": "code",
   "execution_count": 99,
   "id": "d710e9b0-8c4d-4c39-8a22-39a6fa4068dd",
   "metadata": {},
   "outputs": [],
   "source": [
    "import pandas as pd\n",
    "import numpy as np\n",
    "df = pd.read_csv(f\"{path}/steam_games.csv\")"
   ]
  },
  {
   "cell_type": "markdown",
   "id": "42d535ec-ed08-45ae-9656-2726d95415b5",
   "metadata": {},
   "source": [
    "Zacznę od opisu zbioru danych "
   ]
  },
  {
   "cell_type": "code",
   "execution_count": 20,
   "id": "3520c773-8f3a-4792-86cc-d9348a2c754d",
   "metadata": {},
   "outputs": [
    {
     "name": "stdout",
     "output_type": "stream",
     "text": [
      "<class 'pandas.core.indexes.range.RangeIndex'>\n",
      "(71429, 21)\n",
      "0                    勇者の伝説の勇者\n",
      "1               Light No Fire\n",
      "2        Lorhaven: Cursed War\n",
      "3                PUIQ: Demons\n",
      "4              Project XSTING\n",
      "                 ...         \n",
      "71424       Touchdown Pinball\n",
      "71425       Speed Golf Royale\n",
      "71426           Isle of Swaps\n",
      "71427                 Goobies\n",
      "71428         WindowBlinds 11\n",
      "Name: name, Length: 71429, dtype: object\n",
      "0\n",
      "steam_appid              int64\n",
      "name                    object\n",
      "developers              object\n",
      "publishers              object\n",
      "categories              object\n",
      "genres                  object\n",
      "required_age             int64\n",
      "n_achievements           int64\n",
      "platforms               object\n",
      "is_released               bool\n",
      "release_date            object\n",
      "additional_content      object\n",
      "total_reviews            int64\n",
      "total_positive           int64\n",
      "total_negative           int64\n",
      "review_score           float64\n",
      "review_score_desc       object\n",
      "positive_percentual    float64\n",
      "metacritic               int64\n",
      "is_free                   bool\n",
      "price_initial (USD)    float64\n",
      "dtype: object\n",
      "<class 'pandas.core.frame.DataFrame'>\n",
      "RangeIndex: 71429 entries, 0 to 71428\n",
      "Data columns (total 21 columns):\n",
      " #   Column               Non-Null Count  Dtype  \n",
      "---  ------               --------------  -----  \n",
      " 0   steam_appid          71429 non-null  int64  \n",
      " 1   name                 71429 non-null  object \n",
      " 2   developers           71429 non-null  object \n",
      " 3   publishers           71429 non-null  object \n",
      " 4   categories           71429 non-null  object \n",
      " 5   genres               71429 non-null  object \n",
      " 6   required_age         71429 non-null  int64  \n",
      " 7   n_achievements       71429 non-null  int64  \n",
      " 8   platforms            71429 non-null  object \n",
      " 9   is_released          71429 non-null  bool   \n",
      " 10  release_date         71429 non-null  object \n",
      " 11  additional_content   71429 non-null  object \n",
      " 12  total_reviews        71429 non-null  int64  \n",
      " 13  total_positive       71429 non-null  int64  \n",
      " 14  total_negative       71429 non-null  int64  \n",
      " 15  review_score         71429 non-null  float64\n",
      " 16  review_score_desc    71429 non-null  object \n",
      " 17  positive_percentual  71429 non-null  float64\n",
      " 18  metacritic           71429 non-null  int64  \n",
      " 19  is_free              71429 non-null  bool   \n",
      " 20  price_initial (USD)  71429 non-null  float64\n",
      "dtypes: bool(2), float64(3), int64(7), object(9)\n",
      "memory usage: 10.5+ MB\n",
      "None\n",
      "   steam_appid                  name           developers  \\\n",
      "0      2719580              勇者の伝説の勇者             ['ぽけそう']   \n",
      "1      2719590         Light No Fire      ['Hello Games']   \n",
      "2      2719600  Lorhaven: Cursed War  ['GoldenGod Games']   \n",
      "3      2719610          PUIQ: Demons          ['Giammnn']   \n",
      "4      2719650        Project XSTING      ['Saucy Melon']   \n",
      "\n",
      "            publishers                                         categories  \\\n",
      "0             ['ぽけそう']                ['Single-player', 'Family Sharing']   \n",
      "1      ['Hello Games']  ['Single-player', 'Multi-player', 'Co-op', 'On...   \n",
      "2  ['GoldenGod Games']  ['Single-player', 'Multi-player', 'PvP', 'Shar...   \n",
      "3          ['Giammnn']  ['Single-player', 'Steam Achievements', 'Famil...   \n",
      "4      ['Saucy Melon']  ['Single-player', 'Steam Achievements', 'Steam...   \n",
      "\n",
      "                                          genres  required_age  \\\n",
      "0                            ['Casual', 'Indie']             0   \n",
      "1                        ['Action', 'Adventure']             0   \n",
      "2                            ['RPG', 'Strategy']             0   \n",
      "3           ['Action', 'Casual', 'Indie', 'RPG']             0   \n",
      "4  ['Action', 'Casual', 'Indie', 'Early Access']             0   \n",
      "\n",
      "   n_achievements           platforms  is_released  ... additional_content  \\\n",
      "0               0         ['windows']         True  ...                 []   \n",
      "1               0         ['windows']        False  ...                 []   \n",
      "2              32  ['windows', 'mac']         True  ...                 []   \n",
      "3              28         ['windows']         True  ...                 []   \n",
      "4              42         ['windows']         True  ...                 []   \n",
      "\n",
      "  total_reviews  total_positive  total_negative  review_score  \\\n",
      "0             0               0               0           0.0   \n",
      "1             0               0               0           0.0   \n",
      "2             9               8               1           0.0   \n",
      "3             0               0               0           0.0   \n",
      "4             9               9               0           0.0   \n",
      "\n",
      "   review_score_desc positive_percentual  metacritic  is_free  \\\n",
      "0    No user reviews                 0.0           0    False   \n",
      "1    No user reviews                 0.0           0    False   \n",
      "2     9 user reviews                88.9           0    False   \n",
      "3    No user reviews                 0.0           0    False   \n",
      "4     9 user reviews               100.0           0    False   \n",
      "\n",
      "   price_initial (USD)  \n",
      "0                 0.99  \n",
      "1                 0.00  \n",
      "2                 9.99  \n",
      "3                 2.99  \n",
      "4                 7.99  \n",
      "\n",
      "[5 rows x 21 columns]\n"
     ]
    }
   ],
   "source": [
    "print(type(df.index))\n",
    "print(df.shape)\n",
    "print(df.name)\n",
    "print(df.isna().sum().sum())\n",
    "print(df.dtypes)\n",
    "print(df.info())\n",
    "print(df.head())"
   ]
  },
  {
   "cell_type": "markdown",
   "id": "4a33a425-c0e9-4930-b2a2-4019f97b9550",
   "metadata": {},
   "source": [
    "Mamy tutaj bazę danych składajaca się w większości z obiektów \"object\", co w pandas oznacza, że to może być zmienna dowolnego typu, niekoniecznie taka sama w jednj kolumnie. Tutaj w tym przypadku sa to wektory, a kolejne elementy to tekst. W tabeli nie występuja NaN, co jednak nie od razu znaczy o braku danych. Ramka danych ma 71429 wierszy oraz 21 kolumn."
   ]
  },
  {
   "cell_type": "code",
   "execution_count": 33,
   "id": "fab66446-6875-4463-bf24-d6d58a3add0a",
   "metadata": {},
   "outputs": [
    {
     "name": "stdout",
     "output_type": "stream",
     "text": [
      "6.528184350893896\n",
      "2.99\n",
      "173.88184309834332\n",
      "410.24973050161697\n",
      "70390986.43995781\n",
      "0.9    129.0\n",
      "Name: total_reviews, dtype: float64\n",
      "1279700\n"
     ]
    }
   ],
   "source": [
    "print(df[\"price_initial (USD)\"].mean())\n",
    "print(df[\"price_initial (USD)\"].median())\n",
    "print(df[\"price_initial (USD)\"].var())\n",
    "print(df[\"total_reviews\"].mean())\n",
    "print(df[\"total_reviews\"].var())\n",
    "print(df[\"total_reviews\"].quantile([0.9]))\n",
    "print(df[\"total_reviews\"].max())"
   ]
  },
  {
   "cell_type": "markdown",
   "id": "56e59660-30a0-4aaa-b46b-bb86325e1361",
   "metadata": {},
   "source": [
    "Zajęłam sie najpierw analiza zmiennej ilościowej i wybrałam 2 kolumny dotyczace ceny gier oraz ilości recenzji. Widać, że średnia cena wynosi około 6,5 dolara co jest cena spodziewana, jednak otrzymujemy bardzo duża wariancje, co nam indykuje, że mamy parę danych silnie odstajcych od reszty. \n",
    "Jeżeli chodzi o kolumnę z ilościami recenzji to ponownie średnia jest spodziewana jednak otrzymujemy bardzo duza wariancję. Z tego powodu sprawdzam kwantyl rzędu 0.9 i otrzymuję, że 90 procent z tych danych znajduje się poniżej 129, z czego wynika, że mamy mała częśc danych, która mocno odstaje od reszty. \n",
    "Obie kolumny maja mocno rozproszone dane."
   ]
  },
  {
   "cell_type": "code",
   "execution_count": 37,
   "id": "2e08e77f-da5e-4d7b-aa29-23a084e4dd7f",
   "metadata": {},
   "outputs": [
    {
     "data": {
      "text/html": [
       "<div>\n",
       "<style scoped>\n",
       "    .dataframe tbody tr th:only-of-type {\n",
       "        vertical-align: middle;\n",
       "    }\n",
       "\n",
       "    .dataframe tbody tr th {\n",
       "        vertical-align: top;\n",
       "    }\n",
       "\n",
       "    .dataframe thead th {\n",
       "        text-align: right;\n",
       "    }\n",
       "</style>\n",
       "<table border=\"1\" class=\"dataframe\">\n",
       "  <thead>\n",
       "    <tr style=\"text-align: right;\">\n",
       "      <th></th>\n",
       "      <th>price_initial (USD)</th>\n",
       "    </tr>\n",
       "    <tr>\n",
       "      <th>publishers</th>\n",
       "      <th></th>\n",
       "    </tr>\n",
       "  </thead>\n",
       "  <tbody>\n",
       "    <tr>\n",
       "      <th>[\" Milo's Studio\"]</th>\n",
       "      <td>0.990000</td>\n",
       "    </tr>\n",
       "    <tr>\n",
       "      <th>[\" Tuomo's games\"]</th>\n",
       "      <td>0.000000</td>\n",
       "    </tr>\n",
       "    <tr>\n",
       "      <th>[\"1mPaCt' (JSD)\", 'DasProfGames (AL)']</th>\n",
       "      <td>5.990000</td>\n",
       "    </tr>\n",
       "    <tr>\n",
       "      <th>[\"ABC d'la Mob\"]</th>\n",
       "      <td>0.000000</td>\n",
       "    </tr>\n",
       "    <tr>\n",
       "      <th>[\"AVOS'\"]</th>\n",
       "      <td>12.990000</td>\n",
       "    </tr>\n",
       "    <tr>\n",
       "      <th>...</th>\n",
       "      <td>...</td>\n",
       "    </tr>\n",
       "    <tr>\n",
       "      <th>['𝓛𝓮𝔁𝔂']</th>\n",
       "      <td>0.000000</td>\n",
       "    </tr>\n",
       "    <tr>\n",
       "      <th>['𝙅𝘼𝙄𝙇']</th>\n",
       "      <td>0.000000</td>\n",
       "    </tr>\n",
       "    <tr>\n",
       "      <th>['📚瓜山书坊Guashan Bookshop']</th>\n",
       "      <td>149.990000</td>\n",
       "    </tr>\n",
       "    <tr>\n",
       "      <th>['🚀 Raiser Games']</th>\n",
       "      <td>22.490000</td>\n",
       "    </tr>\n",
       "    <tr>\n",
       "      <th>[]</th>\n",
       "      <td>4.130953</td>\n",
       "    </tr>\n",
       "  </tbody>\n",
       "</table>\n",
       "<p>44187 rows × 1 columns</p>\n",
       "</div>"
      ],
      "text/plain": [
       "                                        price_initial (USD)\n",
       "publishers                                                 \n",
       "[\" Milo's Studio\"]                                 0.990000\n",
       "[\" Tuomo's games\"]                                 0.000000\n",
       "[\"1mPaCt' (JSD)\", 'DasProfGames (AL)']             5.990000\n",
       "[\"ABC d'la Mob\"]                                   0.000000\n",
       "[\"AVOS'\"]                                         12.990000\n",
       "...                                                     ...\n",
       "['𝓛𝓮𝔁𝔂']                                           0.000000\n",
       "['𝙅𝘼𝙄𝙇']                                           0.000000\n",
       "['📚瓜山书坊Guashan Bookshop']                        149.990000\n",
       "['🚀 Raiser Games']                                22.490000\n",
       "[]                                                 4.130953\n",
       "\n",
       "[44187 rows x 1 columns]"
      ]
     },
     "execution_count": 37,
     "metadata": {},
     "output_type": "execute_result"
    }
   ],
   "source": [
    "df.groupby('publishers')[['price_initial (USD)']].mean()"
   ]
  },
  {
   "cell_type": "code",
   "execution_count": 43,
   "id": "09c43c23-a4d9-4d96-af60-e519fb9ecc9a",
   "metadata": {},
   "outputs": [
    {
     "name": "stdout",
     "output_type": "stream",
     "text": [
      "price_initial (USD)    ['A&S Inc.']\n",
      "dtype: object\n",
      "price_initial (USD)    999.98\n",
      "dtype: float64\n"
     ]
    }
   ],
   "source": [
    "print(df.groupby('publishers')[['price_initial (USD)']].mean().idxmax())\n",
    "print(df.groupby('publishers')[['price_initial (USD)']].mean().max())"
   ]
  },
  {
   "cell_type": "code",
   "execution_count": 45,
   "id": "dcc15de6-0e51-4a62-8882-34cffcd0234e",
   "metadata": {},
   "outputs": [
    {
     "data": {
      "text/html": [
       "<div>\n",
       "<style scoped>\n",
       "    .dataframe tbody tr th:only-of-type {\n",
       "        vertical-align: middle;\n",
       "    }\n",
       "\n",
       "    .dataframe tbody tr th {\n",
       "        vertical-align: top;\n",
       "    }\n",
       "\n",
       "    .dataframe thead th {\n",
       "        text-align: right;\n",
       "    }\n",
       "</style>\n",
       "<table border=\"1\" class=\"dataframe\">\n",
       "  <thead>\n",
       "    <tr style=\"text-align: right;\">\n",
       "      <th></th>\n",
       "      <th>price_initial (USD)</th>\n",
       "    </tr>\n",
       "    <tr>\n",
       "      <th>publishers</th>\n",
       "      <th></th>\n",
       "    </tr>\n",
       "  </thead>\n",
       "  <tbody>\n",
       "    <tr>\n",
       "      <th>[\" Milo's Studio\"]</th>\n",
       "      <td>1</td>\n",
       "    </tr>\n",
       "    <tr>\n",
       "      <th>[\" Tuomo's games\"]</th>\n",
       "      <td>1</td>\n",
       "    </tr>\n",
       "    <tr>\n",
       "      <th>[\"1mPaCt' (JSD)\", 'DasProfGames (AL)']</th>\n",
       "      <td>1</td>\n",
       "    </tr>\n",
       "    <tr>\n",
       "      <th>[\"ABC d'la Mob\"]</th>\n",
       "      <td>1</td>\n",
       "    </tr>\n",
       "    <tr>\n",
       "      <th>[\"AVOS'\"]</th>\n",
       "      <td>1</td>\n",
       "    </tr>\n",
       "    <tr>\n",
       "      <th>...</th>\n",
       "      <td>...</td>\n",
       "    </tr>\n",
       "    <tr>\n",
       "      <th>['𝓛𝓮𝔁𝔂']</th>\n",
       "      <td>1</td>\n",
       "    </tr>\n",
       "    <tr>\n",
       "      <th>['𝙅𝘼𝙄𝙇']</th>\n",
       "      <td>1</td>\n",
       "    </tr>\n",
       "    <tr>\n",
       "      <th>['📚瓜山书坊Guashan Bookshop']</th>\n",
       "      <td>1</td>\n",
       "    </tr>\n",
       "    <tr>\n",
       "      <th>['🚀 Raiser Games']</th>\n",
       "      <td>2</td>\n",
       "    </tr>\n",
       "    <tr>\n",
       "      <th>[]</th>\n",
       "      <td>493</td>\n",
       "    </tr>\n",
       "  </tbody>\n",
       "</table>\n",
       "<p>44187 rows × 1 columns</p>\n",
       "</div>"
      ],
      "text/plain": [
       "                                        price_initial (USD)\n",
       "publishers                                                 \n",
       "[\" Milo's Studio\"]                                        1\n",
       "[\" Tuomo's games\"]                                        1\n",
       "[\"1mPaCt' (JSD)\", 'DasProfGames (AL)']                    1\n",
       "[\"ABC d'la Mob\"]                                          1\n",
       "[\"AVOS'\"]                                                 1\n",
       "...                                                     ...\n",
       "['𝓛𝓮𝔁𝔂']                                                  1\n",
       "['𝙅𝘼𝙄𝙇']                                                  1\n",
       "['📚瓜山书坊Guashan Bookshop']                                 1\n",
       "['🚀 Raiser Games']                                        2\n",
       "[]                                                      493\n",
       "\n",
       "[44187 rows x 1 columns]"
      ]
     },
     "execution_count": 45,
     "metadata": {},
     "output_type": "execute_result"
    }
   ],
   "source": [
    "df.groupby('publishers')[['price_initial (USD)']].count()"
   ]
  },
  {
   "cell_type": "code",
   "execution_count": 52,
   "id": "9d45129e-3fa4-4c0c-bf70-748943094c0a",
   "metadata": {},
   "outputs": [
    {
     "name": "stdout",
     "output_type": "stream",
     "text": [
      "price_initial (USD)    493\n",
      "dtype: int64\n",
      "price_initial (USD)    []\n",
      "dtype: object\n",
      "                    price_initial (USD)\n",
      "publishers                             \n",
      "[]                                  493\n",
      "['Big Fish Games']                  320\n"
     ]
    }
   ],
   "source": [
    "print(df.groupby('publishers')[['price_initial (USD)']].count().max())\n",
    "print(df.groupby('publishers')[['price_initial (USD)']].count().idxmax())\n",
    "print(df.groupby('publishers')[['price_initial (USD)']].count().nlargest(2,'price_initial (USD)'))"
   ]
  },
  {
   "cell_type": "markdown",
   "id": "1fd9de74-3c31-4c8f-9a0d-0eabf88aba75",
   "metadata": {},
   "source": [
    "Kolejno zajęałam się analiza zmiennych ilościowych względem zmiennych jakościowych. Zajęłam się producentami. Najpierw sprawdziłam jaki producent miało średnio najdroższe gry - wyszło A&S Inc. Następnie zajęłam się, który producent ma najwięcej wydanych gier, jednak wyszło [], co oznacza, że nie ma danych. Oznacza to, że producentem z największa ilościa publikacji jest Big Fish Games."
   ]
  },
  {
   "cell_type": "code",
   "execution_count": 100,
   "id": "053c8403-eec0-4df9-8895-e6ff7bb428d3",
   "metadata": {},
   "outputs": [],
   "source": [
    "import ast\n",
    "df['genres'] = df['genres'].apply(ast.literal_eval)\n",
    "df1 = df['genres'].explode().value_counts()\n",
    "df1 = df1[1:10]"
   ]
  },
  {
   "cell_type": "code",
   "execution_count": 106,
   "id": "be7b0cd9-c39c-467d-a1db-99ea946c9a37",
   "metadata": {},
   "outputs": [
    {
     "data": {
      "image/png": "[encoded data removed]",
      "text/plain": [
       "<Figure size 640x480 with 1 Axes>"
      ]
     },
     "metadata": {},
     "output_type": "display_data"
    }
   ],
   "source": [
    "df2 = df1.rename_axis('genre').reset_index(name = 'count')\n",
    "plt.bar(df2['genre'], df2['count'])\n",
    "plt.xlabel('Genre')\n",
    "plt.ylabel('Count')\n",
    "plt.title('Top 10 najbardziej popularnych gatunków gier')\n",
    "plt.xticks(rotation = 45)\n",
    "plt.tight_layout()\n",
    "plt.show()"
   ]
  },
  {
   "cell_type": "markdown",
   "id": "5174d22d-15df-4aac-8cc7-a0834f2c9d47",
   "metadata": {},
   "source": [
    "Otrzymuję więc, że najczęściej występujacymi gatunkami wśród gier jest akcja oraz przygodowe, co jest spodziewane."
   ]
  },
  {
   "cell_type": "code",
   "execution_count": 127,
   "id": "f8ddc9f5-2f1d-4bc9-abd2-64d788b25c23",
   "metadata": {},
   "outputs": [
    {
     "data": {
      "image/png": "[encoded data removed]",
      "text/plain": [
       "<Figure size 640x480 with 1 Axes>"
      ]
     },
     "metadata": {},
     "output_type": "display_data"
    }
   ],
   "source": [
    "df3 = df.explode('genres')\n",
    "df3 = df3[(df3['genres'] == 'Action' )| (df3['genres'] == 'Adventure')]\n",
    "sns.boxplot(data = df3, y = 'price_initial (USD)',x = 'genres')\n",
    "plt.title('Rozkład cen gier dla najbardziej popularnych gatunków, czyli Adventure i Action')\n",
    "plt.xlabel('Gatunek')\n",
    "plt.ylabel('Cena (USD)')\n",
    "plt.show()          "
   ]
  },
  {
   "cell_type": "markdown",
   "id": "101bd428-8ca4-4342-aa11-3857cd7be2db",
   "metadata": {},
   "source": [
    "Otrzymujemy więc, że ceny tych gier w obu gatunkach średnio sa podobne, jedynie Adventure ma więcej outliers niż Action"
   ]
  },
  {
   "cell_type": "code",
   "execution_count": 137,
   "id": "fce939d3-0029-4c66-a1b3-fd4f8d816189",
   "metadata": {},
   "outputs": [
    {
     "data": {
      "text/plain": [
       "<Axes: xlabel='categories', ylabel='review_score'>"
      ]
     },
     "execution_count": 137,
     "metadata": {},
     "output_type": "execute_result"
    },
    {
     "data": {
      "image/png": "[encoded data removed]",
      "text/plain": [
       "<Figure size 640x480 with 1 Axes>"
      ]
     },
     "metadata": {},
     "output_type": "display_data"
    }
   ],
   "source": [
    "#df['categories'] = df['categories'].apply(ast.literal_eval)\n",
    "df5 = df.explode('categories').reset_index(drop=True)\n",
    "df5 = df5[(df5['categories'] == 'Single-player')| (df5['categories'] == 'Family Sharing')]\n",
    "sns.boxplot(data = df5, x = 'categories', y = 'review_score')\n",
    "plt.xlabel('Kategoria gry')\n",
    "plt.ylabel('Ilość ocen')"
   ]
  },
  {
   "cell_type": "code",
   "execution_count": null,
   "id": "872fdc6f-5df7-4935-8521-a44dcbfd03ce",
   "metadata": {},
   "outputs": [],
   "source": []
  }
 ],
 "metadata": {
  "kernelspec": {
   "display_name": "Python 3 (ipykernel)",
   "language": "python",
   "name": "python3"
  },
  "language_info": {
   "codemirror_mode": {
    "name": "ipython",
    "version": 3
   },
   "file_extension": ".py",
   "mimetype": "text/x-python",
   "name": "python",
   "nbconvert_exporter": "python",
   "pygments_lexer": "ipython3",
   "version": "3.12.3"
  }
 },
 "nbformat": 4,
 "nbformat_minor": 5
}

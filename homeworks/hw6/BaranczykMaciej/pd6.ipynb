{
 "cells": [
  {
   "cell_type": "code",
   "execution_count": null,
   "id": "e2818c44",
   "metadata": {},
   "outputs": [],
   "source": [
    "import pandas as pd\n",
    "import numpy as np\n",
    "import matplotlib.pyplot as plt\n",
    "import seaborn as sns"
   ]
  },
  {
   "cell_type": "code",
   "execution_count": null,
   "id": "49999487",
   "metadata": {},
   "outputs": [],
   "source": [
    "df=pd.read_csv('Animation_Movies.csv')"
   ]
  },
  {
   "cell_type": "markdown",
   "id": "735938e4",
   "metadata": {},
   "source": [
    "**CZĘŚĆ 1**"
   ]
  },
  {
   "cell_type": "code",
   "execution_count": null,
   "id": "5a990ea9",
   "metadata": {},
   "outputs": [],
   "source": [
    "print(f\"Rozmiar ramki danych to {df.shape[0]} wierszy i {df.shape[1]} kolumn\")"
   ]
  },
  {
   "cell_type": "code",
   "execution_count": null,
   "id": "c43a80d7",
   "metadata": {},
   "outputs": [],
   "source": [
    "print('Kolumny w ramce danych są następującego typu:')\n",
    "df.dtypes"
   ]
  },
  {
   "cell_type": "code",
   "execution_count": null,
   "id": "c604631b",
   "metadata": {},
   "outputs": [],
   "source": [
    "print('Ilość braków danych w poszczególnych kolumnach')\n",
    "df.isna().sum()"
   ]
  },
  {
   "cell_type": "markdown",
   "id": "5299484b",
   "metadata": {},
   "source": [
    "**CZĘŚĆ 2**"
   ]
  },
  {
   "cell_type": "code",
   "execution_count": null,
   "id": "2d0b2fe1",
   "metadata": {},
   "outputs": [],
   "source": [
    "df.loc[(df['revenue']==df['revenue'].max()),'title'].iloc[0]"
   ]
  },
  {
   "cell_type": "code",
   "execution_count": null,
   "id": "87ccd457",
   "metadata": {},
   "outputs": [],
   "source": [
    "print(f\"\"\"Średni przychód wygenerowany przez bajki animowane wynosi {np.round(df.loc[df['revenue']>0,'revenue'].mean()/10**6,2)} mln a mediana {np.round(df.loc[df['revenue']>0,'revenue'].median()/10**6,2)} mln. \n",
    "Największy przychód odnotował film {df.loc[(df['revenue']==df['revenue'].max()),'title'].iloc[0]} o wartości {np.round(df['revenue'].max(skipna=True)/10**6,2)} mln.\"\"\")\n",
    "print(f\"Mediana budżetu na tworzenie animacji to {np.round(df.loc[df['budget']>0,'budget'].median()/10**6,2)} mln, a średnia to {np.round(df.loc[df['budget']>0,'budget'].mean()/10**6,2)} mln.\")\n",
    "print(f\"Średni czas trwania bajki to: {np.round(df.loc[df['runtime']>0,'runtime'].mean(),2)} min.\")\n",
    "print(f\"Średnia ilość głosów na bajkę to: {np.round(df.loc[df['vote_count']>0,'vote_count'].mean(),0)}.\")\n",
    "print(f'Jedynie {np.round(df.vote_average[(df.vote_count>0) & (df.vote_average>=7.5)].count()*100/df.vote_average[df.vote_count>0].count(),2)}% bajek uzyskało średnią ocenę >=7.5.')\n",
    "print(f'Wśród bajek animowanych {np.round(df.adult[df.adult==1].count()*100/df.adult.count(),2)}% było odpowiednich dla dorosłych.')"
   ]
  },
  {
   "cell_type": "markdown",
   "id": "7a0d3e3d",
   "metadata": {},
   "source": [
    "**Wnioski**\n",
    "Jak widać, nieduża część animacji zyskuje dużą aprobatę wśród publiczności. Jednakże patrząc na średnią i medianę przychodu, budżetu filmów widzimy, że animacje przynoszą spore zyski. Większość animacji trwa niecałe pół godziny, ale ilość pracy potrzebnej na wykonanie tak krótkiego filmu jest z pewnością nieporównywalnie większa stąd wysokość budżetu. Możemy zwrócić uwagę na to, że bajki są przeznaczone praktycznie wyłącznie dla dzieci. Przez to nie zyskują one tak dużego rozgłosu w internecie i generują mniejszą aktywność wśród widzów w postaci głosów. Jednakże, bajki takie jak \"Frozen II\" pokazują, że animacja także może osiągnąć ogromny sukces. "
   ]
  },
  {
   "cell_type": "markdown",
   "id": "7df69adc",
   "metadata": {},
   "source": [
    "**CZĘŚĆ 3**"
   ]
  },
  {
   "cell_type": "code",
   "execution_count": null,
   "id": "6e9cf316",
   "metadata": {},
   "outputs": [],
   "source": [
    "#Top 10 najpopularniejszych języków\n",
    "df.groupby('spoken_languages').title.agg(\"count\").sort_values(ascending=False).head(10)"
   ]
  },
  {
   "cell_type": "code",
   "execution_count": null,
   "id": "535f50f5",
   "metadata": {},
   "outputs": [],
   "source": [
    "#Top 10 najpopularniejszych krajów produkcji\n",
    "df.groupby('production_countries').title.agg(\"count\").sort_values(ascending=False).head(10)"
   ]
  },
  {
   "cell_type": "code",
   "execution_count": null,
   "id": "c52ba11e",
   "metadata": {},
   "outputs": [],
   "source": [
    "#Top 10 najpopularniejszych gatunków filmów\n",
    "df.groupby('genres').title.agg(\"count\").sort_values(ascending=False).head(10).index"
   ]
  },
  {
   "cell_type": "code",
   "execution_count": null,
   "id": "920b3f6c",
   "metadata": {},
   "outputs": [],
   "source": [
    "#Top 10 największych średnich budżetów w zależności od kraju produkcji\n",
    "df.groupby('production_countries').budget.agg(\"mean\").sort_values(ascending=False).head(10)"
   ]
  },
  {
   "cell_type": "code",
   "execution_count": null,
   "id": "ff3ea873",
   "metadata": {},
   "outputs": [],
   "source": [
    "#Top 10 największych median budżetów w zależności od firmy tworzącej\n",
    "df.groupby('production_companies').budget.agg(\"median\").sort_values(ascending=False).head(10)"
   ]
  },
  {
   "cell_type": "code",
   "execution_count": null,
   "id": "dead4fd0",
   "metadata": {},
   "outputs": [],
   "source": [
    "#Top 10 największych średnich zysków w zależności od kraju produkcji\n",
    "df.groupby('production_countries').revenue.agg(\"mean\").sort_values(ascending=False).head(10)"
   ]
  },
  {
   "cell_type": "code",
   "execution_count": null,
   "id": "6b05d421",
   "metadata": {},
   "outputs": [],
   "source": [
    "#Top 10 najdłuższych filmów w danym języku i ich tytuł\n",
    "df.loc[df.groupby('spoken_languages')['runtime'].idxmax()][['spoken_languages', 'title', 'runtime']].sort_values('runtime', ascending=False).head(10).reset_index(drop=True)"
   ]
  },
  {
   "cell_type": "code",
   "execution_count": null,
   "id": "78dff73b",
   "metadata": {},
   "outputs": [],
   "source": [
    "#Mediana liczby głosów na filmy\n",
    "df.loc[df['vote_count']>0].groupby('adult').vote_count.agg('median')"
   ]
  },
  {
   "cell_type": "markdown",
   "id": "91957893",
   "metadata": {},
   "source": [
    "**Wnioski**\n",
    "Widoczne jest to, że filmy animowane najczęściej powstają w krajach zachodnich, Chinach czy Japonii. Te kraje mają największe budżety oraz firmy produkujące filmy. Trafiają one do dużej ilości odbiorców na świecie. Ciekawe wydaje się 10 miejsce języka polskiego wśród liczby filmów w danym języku. Pokazuje to, że Polska jest dużym odbiorcą animowanych treści. Polski rynek dubbingowy i lektorów jest też naprawdę duży. Mediana liczby głosów pokazuje, że filmy animowane nie generują dużej aktywności w internecie. Wśród podtypów filmów animowanych przeważają familijne, komedie, co pokazuje, że rynek ten kieruje treści głównie do dzieci."
   ]
  },
  {
   "cell_type": "markdown",
   "id": "ebf202f7",
   "metadata": {},
   "source": [
    "**CZĘŚĆ 4**"
   ]
  },
  {
   "cell_type": "code",
   "execution_count": null,
   "id": "83a8f2e7",
   "metadata": {},
   "outputs": [],
   "source": [
    "sns.set(rc = {'figure.figsize': (12,7)})\n",
    "sns.set_style(\"darkgrid\")"
   ]
  },
  {
   "cell_type": "code",
   "execution_count": null,
   "id": "100a0921",
   "metadata": {},
   "outputs": [],
   "source": [
    "top_genres=df.groupby('genres').title.agg(\"count\").sort_values(ascending=False).head(10).index\n",
    "pop_genres=df.loc[(df['genres'].isin(top_genres)) & (df['vote_count']>0)]\n",
    "\n",
    "sns.boxplot(pop_genres,x=\"vote_average\",y=\"genres\")\n",
    "\n",
    "plt.title('Rozkład średniej oceny filmów dla 10 najczęściej występujących gatunków',fontdict={'size':15})\n",
    "plt.xlabel(\"Średnia ocena\")\n",
    "plt.ylabel(\"Gatunek filmu\")\n",
    "plt.show()"
   ]
  },
  {
   "cell_type": "markdown",
   "id": "74a8cf5c",
   "metadata": {},
   "source": [
    "Rozkład średniej oceny pokazuje, że filmy dokumentalne filmy animowane cieszą się największym uznaniem. Pozwala z pewnością to na łatwiejsze przyswojenie treści domuntalnej. Dosyć wysokie oceny zbierają również filmy familijne i muzyczne. Co ciekawe, komedie animowane najczęściej mają średnią głosów w okolicach 6. Być może animacja i komedia to dla ludzi przesadne połączenie."
   ]
  },
  {
   "cell_type": "markdown",
   "id": "9675c4d9",
   "metadata": {},
   "source": [
    "**CZĘŚĆ 5**"
   ]
  },
  {
   "cell_type": "code",
   "execution_count": null,
   "id": "293f8fdd",
   "metadata": {},
   "outputs": [],
   "source": [
    "df_2=df.loc[(df['budget']>0)]\n",
    "\n",
    "\n",
    "sns.scatterplot(data=df_2, x='budget', y='revenue',alpha=0.65,color='#4875ee')\n",
    "\n",
    "plt.xscale('log')\n",
    "plt.yscale('log')\n",
    "\n",
    "plt.ylim(None, 0.3*10**10)\n",
    "plt.xlim(None, 0.3*10**10)\n",
    "\n",
    "plt.plot(\n",
    "    [0, 0.3e10],\n",
    "    [0, 0.3e10],\n",
    "    color=\"#da1212\",\n",
    "    linestyle='--',\n",
    "    linewidth=1,\n",
    "    label=\"Linia odniesienia: przychód = budżet\"\n",
    ")\n",
    "\n",
    "plt.title('Zależność między budżetem a przychodem z filmu',fontdict={'size':15})\n",
    "plt.xlabel(\"Budżet\")\n",
    "plt.ylabel(\"Przychód\")\n",
    "plt.legend()\n",
    "\n",
    "plt.show()"
   ]
  },
  {
   "cell_type": "markdown",
   "id": "9fe1d575",
   "metadata": {},
   "source": [
    "Wzrost budżetu powoduje wzrost przychodów. Dla większości filmów przychód jest większy niż budżet. Niestety zdarzają się produkcje bardzo niewypłacalne, nawet w setkach tysięcy.\n"
   ]
  },
  {
   "cell_type": "code",
   "execution_count": null,
   "id": "4bb53790",
   "metadata": {},
   "outputs": [],
   "source": [
    "#Wybieram tylko te, które mają więcej niż 5 głosów, żeby była większa próbka\n",
    "df_3=df.loc[(df['revenue']>0)&(df['vote_count']>3)]\n",
    "\n",
    "\n",
    "sns.scatterplot(data=df_3, x='revenue', y='vote_average',alpha=0.5,color=\"#2f5fe3\")\n",
    "\n",
    "plt.xscale('log')\n",
    "\n",
    "plt.xlim(None, 0.3*10**10)\n",
    "plt.ylim(0, 10)\n",
    "\n",
    "\n",
    "plt.title('Zależność między przychodem a średnią oceną filmu',fontdict={'size':15})\n",
    "plt.xlabel(\"Przychód\")\n",
    "plt.ylabel(\"Średnia ocena\")\n",
    "\n",
    "plt.show()"
   ]
  },
  {
   "cell_type": "markdown",
   "id": "f47917cd",
   "metadata": {},
   "source": [
    "Wielkość budżetu nie gwarantuje wysokich ocen. Filmy o wielomilionowych budżetach potrafią spadać z średnią ocen poniżej 5. Pewnie rozgłos i promocja filmu sprawiają, że wiele osób czuje zawód, gdy produkcja nie jest dopracowana. Niewiele jest filmów, które dostają ocenę powyżej 8. Najczęściej średnia ocena filmów animowanych oscyluje w okolicach 7."
   ]
  }
 ],
 "metadata": {
  "kernelspec": {
   "display_name": "Python 3",
   "language": "python",
   "name": "python3"
  },
  "language_info": {
   "codemirror_mode": {
    "name": "ipython",
    "version": 3
   },
   "file_extension": ".py",
   "mimetype": "text/x-python",
   "name": "python",
   "nbconvert_exporter": "python",
   "pygments_lexer": "ipython3",
   "version": "3.11.5"
  }
 },
 "nbformat": 4,
 "nbformat_minor": 5
}

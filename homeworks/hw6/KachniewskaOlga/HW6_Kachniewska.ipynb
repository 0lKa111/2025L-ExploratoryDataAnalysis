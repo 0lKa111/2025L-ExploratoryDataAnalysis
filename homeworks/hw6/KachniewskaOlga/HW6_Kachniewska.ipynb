{
 "cells": [
  {
   "cell_type": "markdown",
   "id": "c9d514f8",
   "metadata": {},
   "source": [
    "### Praca domowa nr 6 ###\n",
    "Autor: Olga Kachniewska"
   ]
  },
  {
   "cell_type": "code",
   "execution_count": 11,
   "id": "776f3ef1",
   "metadata": {},
   "outputs": [],
   "source": [
    "import pandas as pd\n",
    "import numpy as np\n",
    "import matplotlib.pyplot as plt\n",
    "import plotly.express as px\n",
    "from ipywidgets import interact, widgets\n",
    "import warnings\n",
    "warnings.filterwarnings('ignore')"
   ]
  },
  {
   "cell_type": "code",
   "execution_count": 2,
   "id": "4cfdf51c",
   "metadata": {},
   "outputs": [],
   "source": [
    "df = pd.read_csv(\"Animation_Movies.csv.zip\")"
   ]
  },
  {
   "cell_type": "code",
   "execution_count": 3,
   "id": "a0bda7d4",
   "metadata": {},
   "outputs": [
    {
     "name": "stdout",
     "output_type": "stream",
     "text": [
      "<class 'pandas.core.frame.DataFrame'>\n",
      "RangeIndex: 51945 entries, 0 to 51944\n",
      "Data columns (total 23 columns):\n",
      " #   Column                Non-Null Count  Dtype  \n",
      "---  ------                --------------  -----  \n",
      " 0   id                    51945 non-null  int64  \n",
      " 1   title                 51944 non-null  object \n",
      " 2   vote_average          51945 non-null  float64\n",
      " 3   vote_count            51945 non-null  int64  \n",
      " 4   status                51945 non-null  object \n",
      " 5   release_date          49808 non-null  object \n",
      " 6   revenue               51945 non-null  int64  \n",
      " 7   runtime               51945 non-null  int64  \n",
      " 8   adult                 51945 non-null  bool   \n",
      " 9   backdrop_path         15835 non-null  object \n",
      " 10  budget                51945 non-null  int64  \n",
      " 11  homepage              8253 non-null   object \n",
      " 12  imdb_id               29552 non-null  object \n",
      " 13  original_language     51945 non-null  object \n",
      " 14  original_title        51944 non-null  object \n",
      " 15  overview              45866 non-null  object \n",
      " 16  popularity            51945 non-null  float64\n",
      " 17  poster_path           37934 non-null  object \n",
      " 18  tagline               4678 non-null   object \n",
      " 19  genres                51945 non-null  object \n",
      " 20  production_companies  29398 non-null  object \n",
      " 21  production_countries  39700 non-null  object \n",
      " 22  spoken_languages      33818 non-null  object \n",
      "dtypes: bool(1), float64(2), int64(5), object(15)\n",
      "memory usage: 8.8+ MB\n"
     ]
    }
   ],
   "source": [
    "df.info()"
   ]
  },
  {
   "cell_type": "code",
   "execution_count": 7,
   "id": "9dab0b0e",
   "metadata": {},
   "outputs": [
    {
     "data": {
      "application/vnd.microsoft.datawrangler.viewer.v0+json": {
       "columns": [
        {
         "name": "index",
         "rawType": "object",
         "type": "string"
        },
        {
         "name": "id",
         "rawType": "float64",
         "type": "float"
        },
        {
         "name": "vote_average",
         "rawType": "float64",
         "type": "float"
        },
        {
         "name": "vote_count",
         "rawType": "float64",
         "type": "float"
        },
        {
         "name": "revenue",
         "rawType": "float64",
         "type": "float"
        },
        {
         "name": "runtime",
         "rawType": "float64",
         "type": "float"
        },
        {
         "name": "budget",
         "rawType": "float64",
         "type": "float"
        },
        {
         "name": "popularity",
         "rawType": "float64",
         "type": "float"
        }
       ],
       "ref": "f4a149d1-e236-488a-a806-6a4c1539d691",
       "rows": [
        [
         "count",
         "51945.0",
         "51945.0",
         "51945.0",
         "51945.0",
         "51945.0",
         "51945.0",
         "51945.0"
        ],
        [
         "mean",
         "618812.1576090095",
         "2.597083107132544",
         "40.39537972855905",
         "1863464.1101549717",
         "20.90141495812879",
         "575951.2917508903",
         "1.8862333237077675"
        ],
        [
         "std",
         "347974.79393277917",
         "3.318747923088806",
         "482.7059483845418",
         "30498240.43609759",
         "39.016001661936286",
         "7606627.8048987845",
         "9.7009133204449"
        ],
        [
         "min",
         "12.0",
         "0.0",
         "0.0",
         "0.0",
         "0.0",
         "0.0",
         "0.0"
        ],
        [
         "25%",
         "330081.0",
         "0.0",
         "0.0",
         "0.0",
         "3.0",
         "0.0",
         "0.6"
        ],
        [
         "50%",
         "611915.0",
         "0.0",
         "0.0",
         "0.0",
         "7.0",
         "0.0",
         "0.6"
        ],
        [
         "75%",
         "915904.0",
         "6.0",
         "2.0",
         "0.0",
         "19.0",
         "0.0",
         "0.882"
        ],
        [
         "max",
         "1238314.0",
         "10.0",
         "19463.0",
         "1450026933.0",
         "3720.0",
         "260000000.0",
         "1008.942"
        ]
       ],
       "shape": {
        "columns": 7,
        "rows": 8
       }
      },
      "text/html": [
       "<div>\n",
       "<style scoped>\n",
       "    .dataframe tbody tr th:only-of-type {\n",
       "        vertical-align: middle;\n",
       "    }\n",
       "\n",
       "    .dataframe tbody tr th {\n",
       "        vertical-align: top;\n",
       "    }\n",
       "\n",
       "    .dataframe thead th {\n",
       "        text-align: right;\n",
       "    }\n",
       "</style>\n",
       "<table border=\"1\" class=\"dataframe\">\n",
       "  <thead>\n",
       "    <tr style=\"text-align: right;\">\n",
       "      <th></th>\n",
       "      <th>id</th>\n",
       "      <th>vote_average</th>\n",
       "      <th>vote_count</th>\n",
       "      <th>revenue</th>\n",
       "      <th>runtime</th>\n",
       "      <th>budget</th>\n",
       "      <th>popularity</th>\n",
       "    </tr>\n",
       "  </thead>\n",
       "  <tbody>\n",
       "    <tr>\n",
       "      <th>count</th>\n",
       "      <td>5.194500e+04</td>\n",
       "      <td>51945.000000</td>\n",
       "      <td>51945.000000</td>\n",
       "      <td>5.194500e+04</td>\n",
       "      <td>51945.000000</td>\n",
       "      <td>5.194500e+04</td>\n",
       "      <td>51945.000000</td>\n",
       "    </tr>\n",
       "    <tr>\n",
       "      <th>mean</th>\n",
       "      <td>6.188122e+05</td>\n",
       "      <td>2.597083</td>\n",
       "      <td>40.395380</td>\n",
       "      <td>1.863464e+06</td>\n",
       "      <td>20.901415</td>\n",
       "      <td>5.759513e+05</td>\n",
       "      <td>1.886233</td>\n",
       "    </tr>\n",
       "    <tr>\n",
       "      <th>std</th>\n",
       "      <td>3.479748e+05</td>\n",
       "      <td>3.318748</td>\n",
       "      <td>482.705948</td>\n",
       "      <td>3.049824e+07</td>\n",
       "      <td>39.016002</td>\n",
       "      <td>7.606628e+06</td>\n",
       "      <td>9.700913</td>\n",
       "    </tr>\n",
       "    <tr>\n",
       "      <th>min</th>\n",
       "      <td>1.200000e+01</td>\n",
       "      <td>0.000000</td>\n",
       "      <td>0.000000</td>\n",
       "      <td>0.000000e+00</td>\n",
       "      <td>0.000000</td>\n",
       "      <td>0.000000e+00</td>\n",
       "      <td>0.000000</td>\n",
       "    </tr>\n",
       "    <tr>\n",
       "      <th>25%</th>\n",
       "      <td>3.300810e+05</td>\n",
       "      <td>0.000000</td>\n",
       "      <td>0.000000</td>\n",
       "      <td>0.000000e+00</td>\n",
       "      <td>3.000000</td>\n",
       "      <td>0.000000e+00</td>\n",
       "      <td>0.600000</td>\n",
       "    </tr>\n",
       "    <tr>\n",
       "      <th>50%</th>\n",
       "      <td>6.119150e+05</td>\n",
       "      <td>0.000000</td>\n",
       "      <td>0.000000</td>\n",
       "      <td>0.000000e+00</td>\n",
       "      <td>7.000000</td>\n",
       "      <td>0.000000e+00</td>\n",
       "      <td>0.600000</td>\n",
       "    </tr>\n",
       "    <tr>\n",
       "      <th>75%</th>\n",
       "      <td>9.159040e+05</td>\n",
       "      <td>6.000000</td>\n",
       "      <td>2.000000</td>\n",
       "      <td>0.000000e+00</td>\n",
       "      <td>19.000000</td>\n",
       "      <td>0.000000e+00</td>\n",
       "      <td>0.882000</td>\n",
       "    </tr>\n",
       "    <tr>\n",
       "      <th>max</th>\n",
       "      <td>1.238314e+06</td>\n",
       "      <td>10.000000</td>\n",
       "      <td>19463.000000</td>\n",
       "      <td>1.450027e+09</td>\n",
       "      <td>3720.000000</td>\n",
       "      <td>2.600000e+08</td>\n",
       "      <td>1008.942000</td>\n",
       "    </tr>\n",
       "  </tbody>\n",
       "</table>\n",
       "</div>"
      ],
      "text/plain": [
       "                 id  vote_average    vote_count       revenue       runtime  \\\n",
       "count  5.194500e+04  51945.000000  51945.000000  5.194500e+04  51945.000000   \n",
       "mean   6.188122e+05      2.597083     40.395380  1.863464e+06     20.901415   \n",
       "std    3.479748e+05      3.318748    482.705948  3.049824e+07     39.016002   \n",
       "min    1.200000e+01      0.000000      0.000000  0.000000e+00      0.000000   \n",
       "25%    3.300810e+05      0.000000      0.000000  0.000000e+00      3.000000   \n",
       "50%    6.119150e+05      0.000000      0.000000  0.000000e+00      7.000000   \n",
       "75%    9.159040e+05      6.000000      2.000000  0.000000e+00     19.000000   \n",
       "max    1.238314e+06     10.000000  19463.000000  1.450027e+09   3720.000000   \n",
       "\n",
       "             budget    popularity  \n",
       "count  5.194500e+04  51945.000000  \n",
       "mean   5.759513e+05      1.886233  \n",
       "std    7.606628e+06      9.700913  \n",
       "min    0.000000e+00      0.000000  \n",
       "25%    0.000000e+00      0.600000  \n",
       "50%    0.000000e+00      0.600000  \n",
       "75%    0.000000e+00      0.882000  \n",
       "max    2.600000e+08   1008.942000  "
      ]
     },
     "execution_count": 7,
     "metadata": {},
     "output_type": "execute_result"
    }
   ],
   "source": [
    "df.describe()"
   ]
  },
  {
   "cell_type": "code",
   "execution_count": 6,
   "id": "d456bb68",
   "metadata": {},
   "outputs": [
    {
     "data": {
      "application/vnd.microsoft.datawrangler.viewer.v0+json": {
       "columns": [
        {
         "name": "index",
         "rawType": "object",
         "type": "string"
        },
        {
         "name": "title",
         "rawType": "object",
         "type": "string"
        },
        {
         "name": "status",
         "rawType": "object",
         "type": "string"
        },
        {
         "name": "release_date",
         "rawType": "object",
         "type": "string"
        },
        {
         "name": "backdrop_path",
         "rawType": "object",
         "type": "string"
        },
        {
         "name": "homepage",
         "rawType": "object",
         "type": "string"
        },
        {
         "name": "imdb_id",
         "rawType": "object",
         "type": "string"
        },
        {
         "name": "original_language",
         "rawType": "object",
         "type": "string"
        },
        {
         "name": "original_title",
         "rawType": "object",
         "type": "string"
        },
        {
         "name": "overview",
         "rawType": "object",
         "type": "string"
        },
        {
         "name": "poster_path",
         "rawType": "object",
         "type": "string"
        },
        {
         "name": "tagline",
         "rawType": "object",
         "type": "string"
        },
        {
         "name": "genres",
         "rawType": "object",
         "type": "string"
        },
        {
         "name": "production_companies",
         "rawType": "object",
         "type": "string"
        },
        {
         "name": "production_countries",
         "rawType": "object",
         "type": "string"
        },
        {
         "name": "spoken_languages",
         "rawType": "object",
         "type": "string"
        }
       ],
       "ref": "98d3a234-0563-4b6f-be0c-5a2926b638f4",
       "rows": [
        [
         "count",
         "51944",
         "51945",
         "49808",
         "15835",
         "8253",
         "29552",
         "51945",
         "51944",
         "45866",
         "37934",
         "4678",
         "51945",
         "29398",
         "39700",
         "33818"
        ],
        [
         "unique",
         "49381",
         "6",
         "16893",
         "15731",
         "7461",
         "29545",
         "102",
         "50318",
         "44907",
         "37819",
         "4451",
         "2649",
         "11196",
         "1096",
         "617"
        ],
        [
         "top",
         "Little Red Riding Hood",
         "Released",
         "2017-01-01",
         "/7tFOLDhZqKPactVlGfdjgVmYnlu.jpg",
         "https://animation.geidai.ac.jp",
         "tt27048168",
         "en",
         "Metamorphosis",
         "An Aesop’s Film Fables cartoon.",
         "/tVRb7CCGuru9RdG1ikGFCceuegy.jpg",
         "animation short",
         "Animation",
         "ONF | NFB",
         "United States of America",
         "English"
        ],
        [
         "freq",
         "15",
         "51134",
         "291",
         "17",
         "147",
         "2",
         "28584",
         "9",
         "71",
         "12",
         "104",
         "28393",
         "717",
         "12836",
         "12005"
        ]
       ],
       "shape": {
        "columns": 15,
        "rows": 4
       }
      },
      "text/html": [
       "<div>\n",
       "<style scoped>\n",
       "    .dataframe tbody tr th:only-of-type {\n",
       "        vertical-align: middle;\n",
       "    }\n",
       "\n",
       "    .dataframe tbody tr th {\n",
       "        vertical-align: top;\n",
       "    }\n",
       "\n",
       "    .dataframe thead th {\n",
       "        text-align: right;\n",
       "    }\n",
       "</style>\n",
       "<table border=\"1\" class=\"dataframe\">\n",
       "  <thead>\n",
       "    <tr style=\"text-align: right;\">\n",
       "      <th></th>\n",
       "      <th>title</th>\n",
       "      <th>status</th>\n",
       "      <th>release_date</th>\n",
       "      <th>backdrop_path</th>\n",
       "      <th>homepage</th>\n",
       "      <th>imdb_id</th>\n",
       "      <th>original_language</th>\n",
       "      <th>original_title</th>\n",
       "      <th>overview</th>\n",
       "      <th>poster_path</th>\n",
       "      <th>tagline</th>\n",
       "      <th>genres</th>\n",
       "      <th>production_companies</th>\n",
       "      <th>production_countries</th>\n",
       "      <th>spoken_languages</th>\n",
       "    </tr>\n",
       "  </thead>\n",
       "  <tbody>\n",
       "    <tr>\n",
       "      <th>count</th>\n",
       "      <td>51944</td>\n",
       "      <td>51945</td>\n",
       "      <td>49808</td>\n",
       "      <td>15835</td>\n",
       "      <td>8253</td>\n",
       "      <td>29552</td>\n",
       "      <td>51945</td>\n",
       "      <td>51944</td>\n",
       "      <td>45866</td>\n",
       "      <td>37934</td>\n",
       "      <td>4678</td>\n",
       "      <td>51945</td>\n",
       "      <td>29398</td>\n",
       "      <td>39700</td>\n",
       "      <td>33818</td>\n",
       "    </tr>\n",
       "    <tr>\n",
       "      <th>unique</th>\n",
       "      <td>49381</td>\n",
       "      <td>6</td>\n",
       "      <td>16893</td>\n",
       "      <td>15731</td>\n",
       "      <td>7461</td>\n",
       "      <td>29545</td>\n",
       "      <td>102</td>\n",
       "      <td>50318</td>\n",
       "      <td>44907</td>\n",
       "      <td>37819</td>\n",
       "      <td>4451</td>\n",
       "      <td>2649</td>\n",
       "      <td>11196</td>\n",
       "      <td>1096</td>\n",
       "      <td>617</td>\n",
       "    </tr>\n",
       "    <tr>\n",
       "      <th>top</th>\n",
       "      <td>Little Red Riding Hood</td>\n",
       "      <td>Released</td>\n",
       "      <td>2017-01-01</td>\n",
       "      <td>/7tFOLDhZqKPactVlGfdjgVmYnlu.jpg</td>\n",
       "      <td>https://animation.geidai.ac.jp</td>\n",
       "      <td>tt27048168</td>\n",
       "      <td>en</td>\n",
       "      <td>Metamorphosis</td>\n",
       "      <td>An Aesop’s Film Fables cartoon.</td>\n",
       "      <td>/tVRb7CCGuru9RdG1ikGFCceuegy.jpg</td>\n",
       "      <td>animation short</td>\n",
       "      <td>Animation</td>\n",
       "      <td>ONF | NFB</td>\n",
       "      <td>United States of America</td>\n",
       "      <td>English</td>\n",
       "    </tr>\n",
       "    <tr>\n",
       "      <th>freq</th>\n",
       "      <td>15</td>\n",
       "      <td>51134</td>\n",
       "      <td>291</td>\n",
       "      <td>17</td>\n",
       "      <td>147</td>\n",
       "      <td>2</td>\n",
       "      <td>28584</td>\n",
       "      <td>9</td>\n",
       "      <td>71</td>\n",
       "      <td>12</td>\n",
       "      <td>104</td>\n",
       "      <td>28393</td>\n",
       "      <td>717</td>\n",
       "      <td>12836</td>\n",
       "      <td>12005</td>\n",
       "    </tr>\n",
       "  </tbody>\n",
       "</table>\n",
       "</div>"
      ],
      "text/plain": [
       "                         title    status release_date  \\\n",
       "count                    51944     51945        49808   \n",
       "unique                   49381         6        16893   \n",
       "top     Little Red Riding Hood  Released   2017-01-01   \n",
       "freq                        15     51134          291   \n",
       "\n",
       "                           backdrop_path                        homepage  \\\n",
       "count                              15835                            8253   \n",
       "unique                             15731                            7461   \n",
       "top     /7tFOLDhZqKPactVlGfdjgVmYnlu.jpg  https://animation.geidai.ac.jp   \n",
       "freq                                  17                             147   \n",
       "\n",
       "           imdb_id original_language original_title  \\\n",
       "count        29552             51945          51944   \n",
       "unique       29545               102          50318   \n",
       "top     tt27048168                en  Metamorphosis   \n",
       "freq             2             28584              9   \n",
       "\n",
       "                               overview                       poster_path  \\\n",
       "count                             45866                             37934   \n",
       "unique                            44907                             37819   \n",
       "top     An Aesop’s Film Fables cartoon.  /tVRb7CCGuru9RdG1ikGFCceuegy.jpg   \n",
       "freq                                 71                                12   \n",
       "\n",
       "                tagline     genres production_companies  \\\n",
       "count              4678      51945                29398   \n",
       "unique             4451       2649                11196   \n",
       "top     animation short  Animation            ONF | NFB   \n",
       "freq                104      28393                  717   \n",
       "\n",
       "            production_countries spoken_languages  \n",
       "count                      39700            33818  \n",
       "unique                      1096              617  \n",
       "top     United States of America          English  \n",
       "freq                       12836            12005  "
      ]
     },
     "execution_count": 6,
     "metadata": {},
     "output_type": "execute_result"
    }
   ],
   "source": [
    "df.describe(include='object')"
   ]
  },
  {
   "cell_type": "markdown",
   "id": "1846a741",
   "metadata": {},
   "source": [
    "Z powyższych statystyk wynika, że większość filmów w zbiorze ma zerowy budżet, przychód, czas trwania, liczbę głosów i ocenę, co wskazuje na wiele braków lub niepełnych danych. Mediana długości filmu to zaledwie 7 minut, co sugeruje obecność wielu bardzo krótkich filmów (np. krótkometrażowych lub błędnie wprowadzonych danych), a skrajne wartości (np. runtime 3720 minut) mogą być odstającymi punktami wymagającymi oczyszczenia danych, natomiast  w danych typu object można zauważyć, że niektóre kolumny, ktore mają indywidualne własności filmu są powtórzenia (np. imdb_id) co może sugerować powtórzenia, a niektóre kolumny wydają się mieć zbyt dużo różnych wartości (np. production_counktries)"
   ]
  },
  {
   "cell_type": "code",
   "execution_count": null,
   "id": "c8a6ea65",
   "metadata": {},
   "outputs": [
    {
     "name": "stdout",
     "output_type": "stream",
     "text": [
      "                vote_average                                       vote_count  \\\n",
      "                       count      mean median       std  min   max      count   \n",
      "status                                                                          \n",
      "Canceled                  17  0.000000    0.0  0.000000  0.0   0.0         17   \n",
      "In Production            381  0.078740    0.0  0.885018  0.0  10.0        381   \n",
      "Planned                  305  0.000000    0.0  0.000000  0.0   0.0        305   \n",
      "Post Production           97  0.000000    0.0  0.000000  0.0   0.0         97   \n",
      "Released               51134  2.637570    0.0  3.328250  0.0  10.0      51134   \n",
      "Rumored                   11  0.545455    0.0  1.809068  0.0   6.0         11   \n",
      "\n",
      "                                               ... budget                    \\\n",
      "                      mean median         std  ... median           std min   \n",
      "status                                         ...                            \n",
      "Canceled          0.000000    0.0    0.000000  ...    0.0  0.000000e+00   0   \n",
      "In Production     0.007874    0.0    0.088502  ...    0.0  4.121867e+06   0   \n",
      "Planned           0.000000    0.0    0.000000  ...    0.0  3.010394e+06   0   \n",
      "Post Production   0.000000    0.0    0.000000  ...    0.0  2.144452e+07   0   \n",
      "Released         41.035984    0.0  486.491877  ...    0.0  7.597704e+06   0   \n",
      "Rumored           0.090909    0.0    0.301511  ...    0.0  0.000000e+00   0   \n",
      "\n",
      "                           popularity                                  \\\n",
      "                       max      count      mean median       std  min   \n",
      "status                                                                  \n",
      "Canceled                 0         17  0.722176  0.600  0.237846  0.6   \n",
      "In Production     60982236        381  1.635026  0.600  2.815742  0.0   \n",
      "Planned           40000000        305  0.825039  0.600  1.576049  0.0   \n",
      "Post Production  200000000         97  3.426031  0.972  9.115815  0.0   \n",
      "Released         260000000      51134  1.892165  0.600  9.765148  0.0   \n",
      "Rumored                  0         11  0.660273  0.600  0.134099  0.6   \n",
      "\n",
      "                           \n",
      "                      max  \n",
      "status                     \n",
      "Canceled            1.455  \n",
      "In Production      30.097  \n",
      "Planned            21.794  \n",
      "Post Production    60.458  \n",
      "Released         1008.942  \n",
      "Rumored             0.932  \n",
      "\n",
      "[6 rows x 36 columns]\n"
     ]
    }
   ],
   "source": [
    "numeric_columns = ['vote_average', 'vote_count', 'revenue', 'runtime', 'budget', 'popularity']\n",
    "grouped = df.groupby('status')[numeric_columns]\n",
    "\n",
    "group_stats = grouped.agg(['count', 'mean', 'median', 'std', 'min', 'max'])\n",
    "\n",
    "print(group_stats)"
   ]
  },
  {
   "cell_type": "markdown",
   "id": "5da5aea5",
   "metadata": {},
   "source": [
    "Tylko filmy o statusie Released posiadają sensowne dane dotyczące ocen, budżetu, popularności i przychodów, pozostałe odzwierciedlają projekty porzucone, niedokończone lub tylko zapowiedziane — nie nadają się do analizy z punktu widzenia skuteczności filmu. Status Post Production wykazuje wyjątkowo wysoką popularność, ale brak danych o ocenach, co sugeruje filmy znane z zapowiedzi"
   ]
  },
  {
   "cell_type": "code",
   "execution_count": 15,
   "id": "f1ae1dde",
   "metadata": {},
   "outputs": [
    {
     "data": {
      "application/vnd.jupyter.widget-view+json": {
       "model_id": "d1bfc6f0a05d4ec8bbe5ad28a6a3c7f0",
       "version_major": 2,
       "version_minor": 0
      },
      "text/plain": [
       "interactive(children=(Dropdown(description='Zmienna:', options=('vote_count', 'revenue', 'runtime', 'budget', …"
      ]
     },
     "metadata": {},
     "output_type": "display_data"
    },
    {
     "data": {
      "text/plain": [
       "<function __main__.plot_genre_distribution(metric)>"
      ]
     },
     "execution_count": 15,
     "metadata": {},
     "output_type": "execute_result"
    }
   ],
   "source": [
    "# Przygotowanie kolumny genre\n",
    "df['genres_clean'] = df['genres'].fillna('').str.replace('[\\[\\]\\']', '', regex=True)\n",
    "df['genres_list'] = df['genres_clean'].str.split(',\\s*')\n",
    "\n",
    "# Rozszerzenie (explode)\n",
    "df_exploded = df.explode('genres_list')\n",
    "\n",
    "# Lista zmiennych liczbowych do wyboru\n",
    "numeric_columns = ['vote_count', 'revenue', 'runtime', 'budget', 'popularity']\n",
    "\n",
    "# Funkcja rysująca wykres\n",
    "def plot_genre_distribution(metric):\n",
    "    data = df_exploded.groupby('genres_list')[metric].mean().sort_values(ascending=False).reset_index()\n",
    "    fig = px.bar(\n",
    "        data,\n",
    "        x='genres_list',\n",
    "        y=metric,\n",
    "        title=f'Średnia wartość: {metric} według gatunku filmu',\n",
    "        labels={'genres_list': 'Gatunek', metric: f'Średnia {metric}'},\n",
    "        color=metric,\n",
    "    )\n",
    "    fig.update_layout(xaxis_tickangle=-45)\n",
    "    fig.show()\n",
    "\n",
    "#menu\n",
    "interact(plot_genre_distribution, metric=widgets.Dropdown(options=numeric_columns, description='Zmienna:'))"
   ]
  },
  {
   "cell_type": "markdown",
   "id": "dc7b87e9",
   "metadata": {},
   "source": [
    "W większosci przypadków w czołówce znajdują się te same gatunki (szczególnie adventure)."
   ]
  }
 ],
 "metadata": {
  "kernelspec": {
   "display_name": "base",
   "language": "python",
   "name": "python3"
  },
  "language_info": {
   "codemirror_mode": {
    "name": "ipython",
    "version": 3
   },
   "file_extension": ".py",
   "mimetype": "text/x-python",
   "name": "python",
   "nbconvert_exporter": "python",
   "pygments_lexer": "ipython3",
   "version": "3.11.4"
  }
 },
 "nbformat": 4,
 "nbformat_minor": 5
}

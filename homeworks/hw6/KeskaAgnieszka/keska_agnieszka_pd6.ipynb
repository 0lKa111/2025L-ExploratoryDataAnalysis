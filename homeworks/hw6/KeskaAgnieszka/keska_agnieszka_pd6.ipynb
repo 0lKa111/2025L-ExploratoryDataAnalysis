{
 "cells": [
  {
   "cell_type": "markdown",
   "id": "7fe325db",
   "metadata": {},
   "source": [
    "Praca domowa 6.\n",
    "Agnieszka Kęska"
   ]
  },
  {
   "cell_type": "code",
   "execution_count": 38,
   "id": "72c1b69e",
   "metadata": {},
   "outputs": [],
   "source": [
    "import numpy as np"
   ]
  },
  {
   "cell_type": "code",
   "execution_count": 39,
   "id": "ef9234c4",
   "metadata": {},
   "outputs": [],
   "source": [
    "import pandas as pd"
   ]
  },
  {
   "cell_type": "code",
   "execution_count": 40,
   "id": "743f073c",
   "metadata": {},
   "outputs": [],
   "source": [
    "import seaborn as sns"
   ]
  },
  {
   "cell_type": "code",
   "execution_count": 41,
   "id": "cbc73f18",
   "metadata": {},
   "outputs": [],
   "source": [
    "import matplotlib.pyplot as plt"
   ]
  },
  {
   "cell_type": "code",
   "execution_count": 42,
   "id": "03030e6e",
   "metadata": {},
   "outputs": [],
   "source": [
    "df = pd.read_csv(\"Animation_Movies.csv\",\n",
    "                delimiter = \",\").dropna().reset_index(drop = True)"
   ]
  },
  {
   "cell_type": "code",
   "execution_count": 43,
   "id": "9db399c5",
   "metadata": {},
   "outputs": [
    {
     "data": {
      "text/plain": [
       "(916, 23)"
      ]
     },
     "execution_count": 43,
     "metadata": {},
     "output_type": "execute_result"
    }
   ],
   "source": [
    "df.shape"
   ]
  },
  {
   "cell_type": "code",
   "execution_count": 44,
   "id": "930f3574",
   "metadata": {},
   "outputs": [
    {
     "data": {
      "text/plain": [
       "id                        int64\n",
       "title                    object\n",
       "vote_average            float64\n",
       "vote_count                int64\n",
       "status                   object\n",
       "                         ...   \n",
       "tagline                  object\n",
       "genres                   object\n",
       "production_companies     object\n",
       "production_countries     object\n",
       "spoken_languages         object\n",
       "Length: 23, dtype: object"
      ]
     },
     "execution_count": 44,
     "metadata": {},
     "output_type": "execute_result"
    }
   ],
   "source": [
    "df.dtypes"
   ]
  },
  {
   "cell_type": "code",
   "execution_count": 45,
   "id": "e57f7d14",
   "metadata": {},
   "outputs": [
    {
     "data": {
      "text/plain": [
       "0"
      ]
     },
     "execution_count": 45,
     "metadata": {},
     "output_type": "execute_result"
    }
   ],
   "source": [
    "df.isna().sum().sum()"
   ]
  },
  {
   "cell_type": "markdown",
   "id": "f3a70614",
   "metadata": {},
   "source": [
    "1. Ramka danych df zawiera dane dotyczące filmów. Zbiór nie ma braków danych, ma 23 kolumny i 916 wierszy.\n",
    "Zmienne jakościowe:\n",
    "binarne: \"adult\",\n",
    "nominalne: id,\"title\",backdrop_path,\"status\",original_title,genres,tagline,overview,poster_path,\"original_language\",\"production_companies\",\"production_countries\",\"spoken_languages\"\n",
    "Zmienne ilościociowe:\n",
    "zliczeniowe: vote_count\n",
    "ilorazowe: revenue,runtime, popularity,\n",
    "przedziałowe: vote_average, release_date\n"
   ]
  },
  {
   "cell_type": "markdown",
   "id": "be8f2d4f",
   "metadata": {},
   "source": [
    "2."
   ]
  },
  {
   "cell_type": "code",
   "execution_count": 30,
   "id": "6d574ac0",
   "metadata": {},
   "outputs": [
    {
     "data": {
      "text/html": [
       "<div>\n",
       "<style scoped>\n",
       "    .dataframe tbody tr th:only-of-type {\n",
       "        vertical-align: middle;\n",
       "    }\n",
       "\n",
       "    .dataframe tbody tr th {\n",
       "        vertical-align: top;\n",
       "    }\n",
       "\n",
       "    .dataframe thead th {\n",
       "        text-align: right;\n",
       "    }\n",
       "</style>\n",
       "<table border=\"1\" class=\"dataframe\">\n",
       "  <thead>\n",
       "    <tr style=\"text-align: right;\">\n",
       "      <th></th>\n",
       "      <th>id</th>\n",
       "      <th>vote_average</th>\n",
       "      <th>vote_count</th>\n",
       "      <th>revenue</th>\n",
       "      <th>runtime</th>\n",
       "      <th>budget</th>\n",
       "      <th>popularity</th>\n",
       "    </tr>\n",
       "  </thead>\n",
       "  <tbody>\n",
       "    <tr>\n",
       "      <th>count</th>\n",
       "      <td>9.160000e+02</td>\n",
       "      <td>916.000000</td>\n",
       "      <td>916.000000</td>\n",
       "      <td>9.160000e+02</td>\n",
       "      <td>916.000000</td>\n",
       "      <td>9.160000e+02</td>\n",
       "      <td>916.000000</td>\n",
       "    </tr>\n",
       "    <tr>\n",
       "      <th>mean</th>\n",
       "      <td>3.733966e+05</td>\n",
       "      <td>6.511949</td>\n",
       "      <td>1416.815502</td>\n",
       "      <td>7.969158e+07</td>\n",
       "      <td>75.918122</td>\n",
       "      <td>2.239101e+07</td>\n",
       "      <td>24.118116</td>\n",
       "    </tr>\n",
       "    <tr>\n",
       "      <th>std</th>\n",
       "      <td>3.143739e+05</td>\n",
       "      <td>1.824529</td>\n",
       "      <td>3036.942790</td>\n",
       "      <td>1.968002e+08</td>\n",
       "      <td>32.350722</td>\n",
       "      <td>4.600886e+07</td>\n",
       "      <td>52.151381</td>\n",
       "    </tr>\n",
       "    <tr>\n",
       "      <th>min</th>\n",
       "      <td>1.200000e+01</td>\n",
       "      <td>0.000000</td>\n",
       "      <td>0.000000</td>\n",
       "      <td>0.000000e+00</td>\n",
       "      <td>0.000000</td>\n",
       "      <td>0.000000e+00</td>\n",
       "      <td>0.600000</td>\n",
       "    </tr>\n",
       "    <tr>\n",
       "      <th>25%</th>\n",
       "      <td>6.071825e+04</td>\n",
       "      <td>6.171500</td>\n",
       "      <td>14.000000</td>\n",
       "      <td>0.000000e+00</td>\n",
       "      <td>67.750000</td>\n",
       "      <td>0.000000e+00</td>\n",
       "      <td>3.848750</td>\n",
       "    </tr>\n",
       "    <tr>\n",
       "      <th>50%</th>\n",
       "      <td>3.324640e+05</td>\n",
       "      <td>6.900500</td>\n",
       "      <td>154.000000</td>\n",
       "      <td>0.000000e+00</td>\n",
       "      <td>86.000000</td>\n",
       "      <td>0.000000e+00</td>\n",
       "      <td>13.136500</td>\n",
       "    </tr>\n",
       "    <tr>\n",
       "      <th>75%</th>\n",
       "      <td>5.870755e+05</td>\n",
       "      <td>7.443000</td>\n",
       "      <td>1062.500000</td>\n",
       "      <td>3.563947e+07</td>\n",
       "      <td>96.000000</td>\n",
       "      <td>1.585000e+07</td>\n",
       "      <td>26.216500</td>\n",
       "    </tr>\n",
       "    <tr>\n",
       "      <th>max</th>\n",
       "      <td>1.196409e+06</td>\n",
       "      <td>10.000000</td>\n",
       "      <td>19463.000000</td>\n",
       "      <td>1.450027e+09</td>\n",
       "      <td>210.000000</td>\n",
       "      <td>2.600000e+08</td>\n",
       "      <td>1008.942000</td>\n",
       "    </tr>\n",
       "  </tbody>\n",
       "</table>\n",
       "</div>"
      ],
      "text/plain": [
       "                 id  vote_average    vote_count       revenue     runtime        budget   popularity\n",
       "count  9.160000e+02    916.000000    916.000000  9.160000e+02  916.000000  9.160000e+02   916.000000\n",
       "mean   3.733966e+05      6.511949   1416.815502  7.969158e+07   75.918122  2.239101e+07    24.118116\n",
       "std    3.143739e+05      1.824529   3036.942790  1.968002e+08   32.350722  4.600886e+07    52.151381\n",
       "min    1.200000e+01      0.000000      0.000000  0.000000e+00    0.000000  0.000000e+00     0.600000\n",
       "25%    6.071825e+04      6.171500     14.000000  0.000000e+00   67.750000  0.000000e+00     3.848750\n",
       "50%    3.324640e+05      6.900500    154.000000  0.000000e+00   86.000000  0.000000e+00    13.136500\n",
       "75%    5.870755e+05      7.443000   1062.500000  3.563947e+07   96.000000  1.585000e+07    26.216500\n",
       "max    1.196409e+06     10.000000  19463.000000  1.450027e+09  210.000000  2.600000e+08  1008.942000"
      ]
     },
     "execution_count": 30,
     "metadata": {},
     "output_type": "execute_result"
    }
   ],
   "source": [
    "df.describe()"
   ]
  },
  {
   "cell_type": "markdown",
   "id": "7ec2e7dd",
   "metadata": {},
   "source": [
    "Wnioski: średnia ocena filmów to 6.5. Nie ma w naszym zbiorze filmów trwających dłużej niż 210 minut. "
   ]
  },
  {
   "cell_type": "markdown",
   "id": "e1f9938c",
   "metadata": {},
   "source": [
    "3."
   ]
  },
  {
   "cell_type": "code",
   "execution_count": 31,
   "id": "3c3a8e56",
   "metadata": {},
   "outputs": [
    {
     "data": {
      "text/plain": [
       "production_countries\n",
       "United States of America                      12864.625\n",
       "Japan                                          3968.088\n",
       "Canada, United States of America                678.466\n",
       "Japan, United States of America                 556.617\n",
       "Canada, France, United States of America        484.876\n",
       "United Kingdom, United States of America        249.776\n",
       "China, France                                   212.626\n",
       "Australia, United States of America             152.997\n",
       "China, Hong Kong, United States of America      132.868\n",
       "Spain, United States of America                 125.169\n",
       "Name: popularity, dtype: float64"
      ]
     },
     "execution_count": 31,
     "metadata": {},
     "output_type": "execute_result"
    }
   ],
   "source": [
    "df.groupby(\"production_countries\").popularity.agg(\"sum\").sort_values(ascending = False).head(10)"
   ]
  },
  {
   "cell_type": "markdown",
   "id": "1c7b670e",
   "metadata": {},
   "source": [
    "Wniosek: Najwięcej filmów produkują USA, Japonia i Kanada."
   ]
  },
  {
   "cell_type": "code",
   "execution_count": 32,
   "id": "bd0459ac",
   "metadata": {},
   "outputs": [
    {
     "data": {
      "text/plain": [
       "production_countries\n",
       "Argentina                       0.6\n",
       "Malaysia, Pakistan, Turkey      0.6\n",
       "Mexico, Norway                  0.6\n",
       "Netherlands, France, Belgium    0.6\n",
       "Estonia, Finland                0.6\n",
       "New Zealand                     0.6\n",
       "North Korea, South Korea        0.6\n",
       "Singapore                       0.6\n",
       "Slovakia                        0.6\n",
       "Iran                            0.6\n",
       "Name: popularity, dtype: float64"
      ]
     },
     "execution_count": 32,
     "metadata": {},
     "output_type": "execute_result"
    }
   ],
   "source": [
    "df.groupby(\"production_countries\").popularity.agg(\"sum\").sort_values(ascending = True).head(10)"
   ]
  },
  {
   "cell_type": "markdown",
   "id": "02fc8244",
   "metadata": {},
   "source": [
    "Najmniej filmów produkują Argentina, Malaysia,Slovakia,New Zealand i Iran."
   ]
  },
  {
   "cell_type": "code",
   "execution_count": 33,
   "id": "11ac7cdb",
   "metadata": {},
   "outputs": [
    {
     "data": {
      "text/html": [
       "<div>\n",
       "<style scoped>\n",
       "    .dataframe tbody tr th:only-of-type {\n",
       "        vertical-align: middle;\n",
       "    }\n",
       "\n",
       "    .dataframe tbody tr th {\n",
       "        vertical-align: top;\n",
       "    }\n",
       "\n",
       "    .dataframe thead th {\n",
       "        text-align: right;\n",
       "    }\n",
       "</style>\n",
       "<table border=\"1\" class=\"dataframe\">\n",
       "  <thead>\n",
       "    <tr style=\"text-align: right;\">\n",
       "      <th></th>\n",
       "      <th>mean</th>\n",
       "      <th>count</th>\n",
       "    </tr>\n",
       "    <tr>\n",
       "      <th>production_companies</th>\n",
       "      <th></th>\n",
       "      <th></th>\n",
       "    </tr>\n",
       "  </thead>\n",
       "  <tbody>\n",
       "    <tr>\n",
       "      <th>Pixar, Walt Disney Pictures</th>\n",
       "      <td>7.482214</td>\n",
       "      <td>14</td>\n",
       "    </tr>\n",
       "    <tr>\n",
       "      <th>Walt Disney Productions</th>\n",
       "      <td>6.983462</td>\n",
       "      <td>13</td>\n",
       "    </tr>\n",
       "    <tr>\n",
       "      <th>Toei Animation</th>\n",
       "      <td>6.893917</td>\n",
       "      <td>12</td>\n",
       "    </tr>\n",
       "    <tr>\n",
       "      <th>Pixar</th>\n",
       "      <td>7.278545</td>\n",
       "      <td>11</td>\n",
       "    </tr>\n",
       "    <tr>\n",
       "      <th>Walt Disney Pictures, Pixar</th>\n",
       "      <td>6.726667</td>\n",
       "      <td>9</td>\n",
       "    </tr>\n",
       "    <tr>\n",
       "      <th>Big Idea Productions</th>\n",
       "      <td>5.629556</td>\n",
       "      <td>9</td>\n",
       "    </tr>\n",
       "    <tr>\n",
       "      <th>Walt Disney Pictures, Walt Disney Animation Studios</th>\n",
       "      <td>7.262000</td>\n",
       "      <td>8</td>\n",
       "    </tr>\n",
       "    <tr>\n",
       "      <th>Walt Disney Animation Studios, Walt Disney Pictures</th>\n",
       "      <td>6.409875</td>\n",
       "      <td>8</td>\n",
       "    </tr>\n",
       "    <tr>\n",
       "      <th>Walt Disney Pictures, Walt Disney Feature Animation</th>\n",
       "      <td>7.186714</td>\n",
       "      <td>7</td>\n",
       "    </tr>\n",
       "    <tr>\n",
       "      <th>DreamWorks Animation, Paramount</th>\n",
       "      <td>6.924286</td>\n",
       "      <td>7</td>\n",
       "    </tr>\n",
       "  </tbody>\n",
       "</table>\n",
       "</div>"
      ],
      "text/plain": [
       "                                                        mean  count\n",
       "production_companies                                               \n",
       "Pixar, Walt Disney Pictures                         7.482214     14\n",
       "Walt Disney Productions                             6.983462     13\n",
       "Toei Animation                                      6.893917     12\n",
       "Pixar                                               7.278545     11\n",
       "Walt Disney Pictures, Pixar                         6.726667      9\n",
       "Big Idea Productions                                5.629556      9\n",
       "Walt Disney Pictures, Walt Disney Animation Stu...  7.262000      8\n",
       "Walt Disney Animation Studios, Walt Disney Pict...  6.409875      8\n",
       "Walt Disney Pictures, Walt Disney Feature Anima...  7.186714      7\n",
       "DreamWorks Animation, Paramount                     6.924286      7"
      ]
     },
     "execution_count": 33,
     "metadata": {},
     "output_type": "execute_result"
    }
   ],
   "source": [
    "df.groupby(\"production_companies\").vote_average.agg([\"mean\",\"count\"]).sort_values(by=[\"count\", \"mean\"],ascending = False).head(10)"
   ]
  },
  {
   "cell_type": "code",
   "execution_count": null,
   "id": "4f652319",
   "metadata": {},
   "outputs": [],
   "source": [
    "Wnioski: Najwięksi producenci to Pixar, Walt Disney Pictures, Toei Animation."
   ]
  },
  {
   "cell_type": "markdown",
   "id": "d21eb402",
   "metadata": {},
   "source": [
    "4."
   ]
  },
  {
   "cell_type": "code",
   "execution_count": 34,
   "id": "c79f3162",
   "metadata": {},
   "outputs": [
    {
     "data": {
      "text/plain": [
       "genres\n",
       "Action, Adventure, Animation                                                               9.0630\n",
       "Action, Adventure, Animation, Comedy                                                       1.0160\n",
       "Action, Adventure, Animation, Comedy, Family                                              32.7915\n",
       "Action, Adventure, Animation, Crime, Science Fiction                                       3.7130\n",
       "Action, Adventure, Animation, Family                                                      29.7792\n",
       "                                                                                           ...   \n",
       "Science Fiction, Romance, Action, Animation                                                3.0790\n",
       "TV Movie, Animation, Science Fiction, Action, Adventure, Comedy, Drama, Fantasy, Music    16.7660\n",
       "Thriller, Action, Animation, Science Fiction                                              11.8640\n",
       "Thriller, Animation, Action, Crime                                                        13.2960\n",
       "War, Action, Adventure, Drama, Animation                                                   1.2500\n",
       "Name: popularity, Length: 471, dtype: float64"
      ]
     },
     "execution_count": 34,
     "metadata": {},
     "output_type": "execute_result"
    }
   ],
   "source": [
    "df.groupby(\"genres\")[\"popularity\"].agg(\"mean\")"
   ]
  },
  {
   "cell_type": "markdown",
   "id": "2e5e6f65",
   "metadata": {},
   "source": [
    "4."
   ]
  },
  {
   "cell_type": "code",
   "execution_count": 47,
   "id": "19d3edec",
   "metadata": {},
   "outputs": [],
   "source": [
    "sns.set(rc = {'figure.figsize': (12,7)})\n",
    "sns.set_style(\"darkgrid\")\n",
    "pd.options.display.max_rows = 10\n",
    "pd.set_option('display.width', 5000)\n",
    "pd.set_option('display.max_columns', 60)"
   ]
  },
  {
   "cell_type": "code",
   "execution_count": 36,
   "id": "3c7d3dcf",
   "metadata": {},
   "outputs": [
    {
     "data": {
      "text/plain": [
       "<function matplotlib.pyplot.show(close=None, block=None)>"
      ]
     },
     "execution_count": 36,
     "metadata": {},
     "output_type": "execute_result"
    },
    {
     "data": {
      "image/png": "[encoded data removed]",
      "text/plain": [
       "<Figure size 1200x700 with 1 Axes>"
      ]
     },
     "metadata": {},
     "output_type": "display_data"
    }
   ],
   "source": [
    "sns.scatterplot(data = df, x = \"vote_average\", y = \"revenue\", alpha=0.4)\n",
    "plt.title(\"Dochód z filmu w zależności od średniej oceny. \")\n",
    "plt.xlabel(\"Ocena\")\n",
    "plt.ylabel(\"Dochód\")\n",
    "plt.show"
   ]
  },
  {
   "cell_type": "markdown",
   "id": "43456865",
   "metadata": {},
   "source": [
    "Powyższy wykres przedstawia dochód z filmu, a jego średnią ocenę. Można zaobserwować, że większośc z nich znajduje się w widełkach ocen od 6 do 8. Nie widać znaczącej zależności."
   ]
  },
  {
   "cell_type": "code",
   "execution_count": 48,
   "id": "cc317937",
   "metadata": {},
   "outputs": [
    {
     "data": {
      "image/png": "[encoded data removed]",
      "text/plain": [
       "<Figure size 1200x700 with 1 Axes>"
      ]
     },
     "metadata": {},
     "output_type": "display_data"
    }
   ],
   "source": [
    "plt.hist(df[\"runtime\"], 100)\n",
    "plt.title(\"Rozkład długości trwania filmów\")\n",
    "plt.ylabel(\"Ilość filmów\")\n",
    "plt.xlabel(\"Czas\")\n",
    "plt.show()"
   ]
  },
  {
   "cell_type": "markdown",
   "id": "bafdbd93",
   "metadata": {},
   "source": [
    "Z powyższego wykresu możemy wywnioskować, że najwięcej filmów trwa od 75 do 110 minut."
   ]
  }
 ],
 "metadata": {
  "kernelspec": {
   "display_name": "Python 3 (ipykernel)",
   "language": "python",
   "name": "python3"
  },
  "language_info": {
   "codemirror_mode": {
    "name": "ipython",
    "version": 3
   },
   "file_extension": ".py",
   "mimetype": "text/x-python",
   "name": "python",
   "nbconvert_exporter": "python",
   "pygments_lexer": "ipython3",
   "version": "3.11.5"
  }
 },
 "nbformat": 4,
 "nbformat_minor": 5
}

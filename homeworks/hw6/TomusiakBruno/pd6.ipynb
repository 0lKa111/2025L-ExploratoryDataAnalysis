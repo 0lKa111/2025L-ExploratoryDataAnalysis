{
 "cells": [
  {
   "cell_type": "markdown",
   "id": "00ba7ea7",
   "metadata": {},
   "source": [
    "# Praca Domowa 6 [HW6]\n",
    "*Bruno Tomusiak*"
   ]
  },
  {
   "cell_type": "code",
   "execution_count": 1,
   "id": "ecbf0a94",
   "metadata": {},
   "outputs": [],
   "source": [
    "import pandas as pd\n",
    "import numpy as np"
   ]
  },
  {
   "cell_type": "code",
   "execution_count": 2,
   "id": "7c99bf7f",
   "metadata": {},
   "outputs": [],
   "source": [
    "df = pd.read_csv(r\"C:\\Users\\tomus\\Desktop\\steam_games.csv\",\n",
    "delimiter = \",\").dropna().reset_index(drop = True)"
   ]
  },
  {
   "cell_type": "markdown",
   "id": "7524f8b2",
   "metadata": {},
   "source": [
    "### (1) Opis zbioru danych. Wielkość, brakujące dane oraz typy zmiennych."
   ]
  },
  {
   "cell_type": "code",
   "execution_count": 57,
   "id": "b6dd6355",
   "metadata": {},
   "outputs": [
    {
     "name": "stdout",
     "output_type": "stream",
     "text": [
      "Liczba wierszy: 71429\n",
      "Liczba kolumn: 21\n"
     ]
    }
   ],
   "source": [
    "print(f'Liczba wierszy: {df.shape[0]}\\nLiczba kolumn: {df.shape[1]}')"
   ]
  },
  {
   "cell_type": "code",
   "execution_count": 4,
   "id": "136de894",
   "metadata": {},
   "outputs": [
    {
     "data": {
      "text/plain": [
       "steam_appid              int64\n",
       "name                    object\n",
       "developers              object\n",
       "publishers              object\n",
       "categories              object\n",
       "genres                  object\n",
       "required_age             int64\n",
       "n_achievements           int64\n",
       "platforms               object\n",
       "is_released               bool\n",
       "release_date            object\n",
       "additional_content      object\n",
       "total_reviews            int64\n",
       "total_positive           int64\n",
       "total_negative           int64\n",
       "review_score           float64\n",
       "review_score_desc       object\n",
       "positive_percentual    float64\n",
       "metacritic               int64\n",
       "is_free                   bool\n",
       "price_initial (USD)    float64\n",
       "dtype: object"
      ]
     },
     "execution_count": 4,
     "metadata": {},
     "output_type": "execute_result"
    }
   ],
   "source": [
    "df.dtypes"
   ]
  },
  {
   "cell_type": "markdown",
   "id": "4233c5af",
   "metadata": {},
   "source": [
    "Większość zmiennych jest typu 'object' co wynika z tego, że są to listy, które stanowią zmienne typu multilabel. Poza nimi mamy zmienne numeryczne, oraz jedną typu bool (Prawda/Fałsz)"
   ]
  },
  {
   "cell_type": "code",
   "execution_count": 5,
   "id": "737181b0",
   "metadata": {},
   "outputs": [
    {
     "data": {
      "text/plain": [
       "steam_appid            0\n",
       "name                   0\n",
       "developers             0\n",
       "publishers             0\n",
       "categories             0\n",
       "genres                 0\n",
       "required_age           0\n",
       "n_achievements         0\n",
       "platforms              0\n",
       "is_released            0\n",
       "release_date           0\n",
       "additional_content     0\n",
       "total_reviews          0\n",
       "total_positive         0\n",
       "total_negative         0\n",
       "review_score           0\n",
       "review_score_desc      0\n",
       "positive_percentual    0\n",
       "metacritic             0\n",
       "is_free                0\n",
       "price_initial (USD)    0\n",
       "dtype: int64"
      ]
     },
     "execution_count": 5,
     "metadata": {},
     "output_type": "execute_result"
    }
   ],
   "source": [
    "df.isnull().sum()"
   ]
  },
  {
   "cell_type": "markdown",
   "id": "c2bde8bb",
   "metadata": {},
   "source": [
    "Jak widać nie ma braków danych."
   ]
  },
  {
   "cell_type": "markdown",
   "id": "fc370795",
   "metadata": {},
   "source": [
    "## (2) Analiza zmiennych (statystyka opisowa)"
   ]
  },
  {
   "cell_type": "code",
   "execution_count": 6,
   "id": "21eba0b3",
   "metadata": {},
   "outputs": [
    {
     "data": {
      "text/html": [
       "<div>\n",
       "<style scoped>\n",
       "    .dataframe tbody tr th:only-of-type {\n",
       "        vertical-align: middle;\n",
       "    }\n",
       "\n",
       "    .dataframe tbody tr th {\n",
       "        vertical-align: top;\n",
       "    }\n",
       "\n",
       "    .dataframe thead th {\n",
       "        text-align: right;\n",
       "    }\n",
       "</style>\n",
       "<table border=\"1\" class=\"dataframe\">\n",
       "  <thead>\n",
       "    <tr style=\"text-align: right;\">\n",
       "      <th></th>\n",
       "      <th>steam_appid</th>\n",
       "      <th>required_age</th>\n",
       "      <th>n_achievements</th>\n",
       "      <th>total_reviews</th>\n",
       "      <th>total_positive</th>\n",
       "      <th>total_negative</th>\n",
       "      <th>review_score</th>\n",
       "      <th>positive_percentual</th>\n",
       "      <th>metacritic</th>\n",
       "      <th>price_initial (USD)</th>\n",
       "    </tr>\n",
       "  </thead>\n",
       "  <tbody>\n",
       "    <tr>\n",
       "      <th>count</th>\n",
       "      <td>7.142900e+04</td>\n",
       "      <td>71429.000000</td>\n",
       "      <td>71429.000000</td>\n",
       "      <td>7.142900e+04</td>\n",
       "      <td>7.142900e+04</td>\n",
       "      <td>71429.000000</td>\n",
       "      <td>71429.000000</td>\n",
       "      <td>71429.000000</td>\n",
       "      <td>71429.000000</td>\n",
       "      <td>71429.000000</td>\n",
       "    </tr>\n",
       "    <tr>\n",
       "      <th>mean</th>\n",
       "      <td>1.613700e+06</td>\n",
       "      <td>2.573227</td>\n",
       "      <td>16.079478</td>\n",
       "      <td>4.102497e+02</td>\n",
       "      <td>3.602238e+02</td>\n",
       "      <td>50.025886</td>\n",
       "      <td>2.192849</td>\n",
       "      <td>46.113290</td>\n",
       "      <td>2.573227</td>\n",
       "      <td>6.528184</td>\n",
       "    </tr>\n",
       "    <tr>\n",
       "      <th>std</th>\n",
       "      <td>8.625559e+05</td>\n",
       "      <td>13.591997</td>\n",
       "      <td>138.084319</td>\n",
       "      <td>8.389934e+03</td>\n",
       "      <td>7.409672e+03</td>\n",
       "      <td>1171.055349</td>\n",
       "      <td>3.175885</td>\n",
       "      <td>41.961702</td>\n",
       "      <td>13.591997</td>\n",
       "      <td>13.186426</td>\n",
       "    </tr>\n",
       "    <tr>\n",
       "      <th>min</th>\n",
       "      <td>7.300000e+02</td>\n",
       "      <td>0.000000</td>\n",
       "      <td>0.000000</td>\n",
       "      <td>0.000000e+00</td>\n",
       "      <td>0.000000e+00</td>\n",
       "      <td>0.000000</td>\n",
       "      <td>0.000000</td>\n",
       "      <td>0.000000</td>\n",
       "      <td>0.000000</td>\n",
       "      <td>0.000000</td>\n",
       "    </tr>\n",
       "    <tr>\n",
       "      <th>25%</th>\n",
       "      <td>9.296400e+05</td>\n",
       "      <td>0.000000</td>\n",
       "      <td>0.000000</td>\n",
       "      <td>0.000000e+00</td>\n",
       "      <td>0.000000e+00</td>\n",
       "      <td>0.000000</td>\n",
       "      <td>0.000000</td>\n",
       "      <td>0.000000</td>\n",
       "      <td>0.000000</td>\n",
       "      <td>0.000000</td>\n",
       "    </tr>\n",
       "    <tr>\n",
       "      <th>50%</th>\n",
       "      <td>1.533470e+06</td>\n",
       "      <td>0.000000</td>\n",
       "      <td>0.000000</td>\n",
       "      <td>2.000000e+00</td>\n",
       "      <td>2.000000e+00</td>\n",
       "      <td>0.000000</td>\n",
       "      <td>0.000000</td>\n",
       "      <td>50.000000</td>\n",
       "      <td>0.000000</td>\n",
       "      <td>2.990000</td>\n",
       "    </tr>\n",
       "    <tr>\n",
       "      <th>75%</th>\n",
       "      <td>2.383530e+06</td>\n",
       "      <td>0.000000</td>\n",
       "      <td>16.000000</td>\n",
       "      <td>1.900000e+01</td>\n",
       "      <td>1.400000e+01</td>\n",
       "      <td>4.000000</td>\n",
       "      <td>5.000000</td>\n",
       "      <td>88.000000</td>\n",
       "      <td>0.000000</td>\n",
       "      <td>9.990000</td>\n",
       "    </tr>\n",
       "    <tr>\n",
       "      <th>max</th>\n",
       "      <td>3.430140e+06</td>\n",
       "      <td>97.000000</td>\n",
       "      <td>9821.000000</td>\n",
       "      <td>1.279700e+06</td>\n",
       "      <td>1.107275e+06</td>\n",
       "      <td>172425.000000</td>\n",
       "      <td>9.000000</td>\n",
       "      <td>100.000000</td>\n",
       "      <td>97.000000</td>\n",
       "      <td>999.980000</td>\n",
       "    </tr>\n",
       "  </tbody>\n",
       "</table>\n",
       "</div>"
      ],
      "text/plain": [
       "        steam_appid  required_age  n_achievements  total_reviews  \\\n",
       "count  7.142900e+04  71429.000000    71429.000000   7.142900e+04   \n",
       "mean   1.613700e+06      2.573227       16.079478   4.102497e+02   \n",
       "std    8.625559e+05     13.591997      138.084319   8.389934e+03   \n",
       "min    7.300000e+02      0.000000        0.000000   0.000000e+00   \n",
       "25%    9.296400e+05      0.000000        0.000000   0.000000e+00   \n",
       "50%    1.533470e+06      0.000000        0.000000   2.000000e+00   \n",
       "75%    2.383530e+06      0.000000       16.000000   1.900000e+01   \n",
       "max    3.430140e+06     97.000000     9821.000000   1.279700e+06   \n",
       "\n",
       "       total_positive  total_negative  review_score  positive_percentual  \\\n",
       "count    7.142900e+04    71429.000000  71429.000000         71429.000000   \n",
       "mean     3.602238e+02       50.025886      2.192849            46.113290   \n",
       "std      7.409672e+03     1171.055349      3.175885            41.961702   \n",
       "min      0.000000e+00        0.000000      0.000000             0.000000   \n",
       "25%      0.000000e+00        0.000000      0.000000             0.000000   \n",
       "50%      2.000000e+00        0.000000      0.000000            50.000000   \n",
       "75%      1.400000e+01        4.000000      5.000000            88.000000   \n",
       "max      1.107275e+06   172425.000000      9.000000           100.000000   \n",
       "\n",
       "         metacritic  price_initial (USD)  \n",
       "count  71429.000000         71429.000000  \n",
       "mean       2.573227             6.528184  \n",
       "std       13.591997            13.186426  \n",
       "min        0.000000             0.000000  \n",
       "25%        0.000000             0.000000  \n",
       "50%        0.000000             2.990000  \n",
       "75%        0.000000             9.990000  \n",
       "max       97.000000           999.980000  "
      ]
     },
     "execution_count": 6,
     "metadata": {},
     "output_type": "execute_result"
    }
   ],
   "source": [
    "df.describe()"
   ]
  },
  {
   "cell_type": "markdown",
   "id": "4c669ae0",
   "metadata": {},
   "source": [
    "Generalne zestawienie podstawowych statystyk zmiennych numerycznych. "
   ]
  },
  {
   "cell_type": "markdown",
   "id": "9e4a7345",
   "metadata": {},
   "source": [
    "Przechodzimy do krótkiego porównania zmiennej typu bool (released: yes/no), której podział Tak/Nie jest dosyć oczywisty w porównaniu:"
   ]
  },
  {
   "cell_type": "code",
   "execution_count": 7,
   "id": "5860fe1d",
   "metadata": {},
   "outputs": [
    {
     "name": "stdout",
     "output_type": "stream",
     "text": [
      "Released: 81.26% | Not Released: 18.74%\n"
     ]
    }
   ],
   "source": [
    "releases_yes = round(df.loc[df.is_released == True].shape[0]/df.shape[0]*100,2)\n",
    "print(f'Released: {releases_yes}% |',\n",
    "    f'Not Released: {round(100-releases_yes,2)}%')"
   ]
  },
  {
   "cell_type": "markdown",
   "id": "e8509ca9",
   "metadata": {},
   "source": [
    "Przyjrzyjmy się bliżej samym zmiennym numerycznym."
   ]
  },
  {
   "cell_type": "code",
   "execution_count": 8,
   "id": "3d186d7a",
   "metadata": {},
   "outputs": [],
   "source": [
    "numeric_df = df.select_dtypes(exclude=['object','bool'])"
   ]
  },
  {
   "cell_type": "code",
   "execution_count": 9,
   "id": "bbe6d528",
   "metadata": {},
   "outputs": [
    {
     "data": {
      "text/plain": [
       "steam_appid            1533470.00\n",
       "required_age                 0.00\n",
       "n_achievements               0.00\n",
       "total_reviews                2.00\n",
       "total_positive               2.00\n",
       "total_negative               0.00\n",
       "review_score                 0.00\n",
       "positive_percentual         50.00\n",
       "metacritic                   0.00\n",
       "price_initial (USD)          2.99\n",
       "dtype: float64"
      ]
     },
     "execution_count": 9,
     "metadata": {},
     "output_type": "execute_result"
    }
   ],
   "source": [
    "numeric_df.median()"
   ]
  },
  {
   "cell_type": "markdown",
   "id": "902c4a80",
   "metadata": {},
   "source": [
    "Powyższe statystki są bardzo cenne. Pokazują, że wartości sporej części zmiennych są głównie zerowe. To tłumaczy czemu nie ma braków danych. W przypadku gdy dana gra nie zawierała pewnych elementów (osiągnięcia itp) to przypisywano danym zmiennom wartości zerowe."
   ]
  },
  {
   "cell_type": "code",
   "execution_count": 10,
   "id": "186aeee1",
   "metadata": {},
   "outputs": [
    {
     "data": {
      "text/html": [
       "<div>\n",
       "<style scoped>\n",
       "    .dataframe tbody tr th:only-of-type {\n",
       "        vertical-align: middle;\n",
       "    }\n",
       "\n",
       "    .dataframe tbody tr th {\n",
       "        vertical-align: top;\n",
       "    }\n",
       "\n",
       "    .dataframe thead th {\n",
       "        text-align: right;\n",
       "    }\n",
       "</style>\n",
       "<table border=\"1\" class=\"dataframe\">\n",
       "  <thead>\n",
       "    <tr style=\"text-align: right;\">\n",
       "      <th></th>\n",
       "      <th>steam_appid</th>\n",
       "      <th>required_age</th>\n",
       "      <th>n_achievements</th>\n",
       "      <th>total_reviews</th>\n",
       "      <th>total_positive</th>\n",
       "      <th>total_negative</th>\n",
       "      <th>review_score</th>\n",
       "      <th>positive_percentual</th>\n",
       "      <th>metacritic</th>\n",
       "      <th>price_initial (USD)</th>\n",
       "    </tr>\n",
       "  </thead>\n",
       "  <tbody>\n",
       "    <tr>\n",
       "      <th>0.25</th>\n",
       "      <td>929640.0</td>\n",
       "      <td>0.0</td>\n",
       "      <td>0.0</td>\n",
       "      <td>0.0</td>\n",
       "      <td>0.0</td>\n",
       "      <td>0.0</td>\n",
       "      <td>0.0</td>\n",
       "      <td>0.0</td>\n",
       "      <td>0.0</td>\n",
       "      <td>0.00</td>\n",
       "    </tr>\n",
       "    <tr>\n",
       "      <th>0.50</th>\n",
       "      <td>1533470.0</td>\n",
       "      <td>0.0</td>\n",
       "      <td>0.0</td>\n",
       "      <td>2.0</td>\n",
       "      <td>2.0</td>\n",
       "      <td>0.0</td>\n",
       "      <td>0.0</td>\n",
       "      <td>50.0</td>\n",
       "      <td>0.0</td>\n",
       "      <td>2.99</td>\n",
       "    </tr>\n",
       "    <tr>\n",
       "      <th>0.75</th>\n",
       "      <td>2383530.0</td>\n",
       "      <td>0.0</td>\n",
       "      <td>16.0</td>\n",
       "      <td>19.0</td>\n",
       "      <td>14.0</td>\n",
       "      <td>4.0</td>\n",
       "      <td>5.0</td>\n",
       "      <td>88.0</td>\n",
       "      <td>0.0</td>\n",
       "      <td>9.99</td>\n",
       "    </tr>\n",
       "  </tbody>\n",
       "</table>\n",
       "</div>"
      ],
      "text/plain": [
       "      steam_appid  required_age  n_achievements  total_reviews  \\\n",
       "0.25     929640.0           0.0             0.0            0.0   \n",
       "0.50    1533470.0           0.0             0.0            2.0   \n",
       "0.75    2383530.0           0.0            16.0           19.0   \n",
       "\n",
       "      total_positive  total_negative  review_score  positive_percentual  \\\n",
       "0.25             0.0             0.0           0.0                  0.0   \n",
       "0.50             2.0             0.0           0.0                 50.0   \n",
       "0.75            14.0             4.0           5.0                 88.0   \n",
       "\n",
       "      metacritic  price_initial (USD)  \n",
       "0.25         0.0                 0.00  \n",
       "0.50         0.0                 2.99  \n",
       "0.75         0.0                 9.99  "
      ]
     },
     "execution_count": 10,
     "metadata": {},
     "output_type": "execute_result"
    }
   ],
   "source": [
    "numeric_df.quantile([0.25,0.50,0.75])"
   ]
  },
  {
   "cell_type": "markdown",
   "id": "a0b9426c",
   "metadata": {},
   "source": [
    "Kwantyle również potwierdzają tą tezę. W dalszej części raportu skupimy się na zmiennych o niezerowych medianach."
   ]
  },
  {
   "cell_type": "markdown",
   "id": "da0b33b1",
   "metadata": {},
   "source": [
    "## (3) Analiza zmiennych numerycznych w zależności od dostępności na danej platformie."
   ]
  },
  {
   "cell_type": "code",
   "execution_count": 11,
   "id": "d0eec8ca",
   "metadata": {},
   "outputs": [
    {
     "data": {
      "text/plain": [
       "platforms\n",
       "['windows']                    54889\n",
       "['windows', 'mac', 'linux']     7362\n",
       "['windows', 'mac']              6539\n",
       "['windows', 'linux']            2611\n",
       "['mac']                           21\n",
       "['linux']                          6\n",
       "['mac', 'linux']                   1\n",
       "Name: count, dtype: int64"
      ]
     },
     "execution_count": 11,
     "metadata": {},
     "output_type": "execute_result"
    }
   ],
   "source": [
    "df.platforms.value_counts()"
   ]
  },
  {
   "cell_type": "markdown",
   "id": "1b75cb2f",
   "metadata": {},
   "source": [
    "Tak ilościowo prezentuje się ilościowo dostępność poszczególnych gier."
   ]
  },
  {
   "cell_type": "code",
   "execution_count": 12,
   "id": "855d9c4a",
   "metadata": {},
   "outputs": [],
   "source": [
    "df2 = df.groupby('platforms')"
   ]
  },
  {
   "cell_type": "code",
   "execution_count": 13,
   "id": "ec56af0c",
   "metadata": {},
   "outputs": [
    {
     "data": {
      "text/html": [
       "<div>\n",
       "<style scoped>\n",
       "    .dataframe tbody tr th:only-of-type {\n",
       "        vertical-align: middle;\n",
       "    }\n",
       "\n",
       "    .dataframe tbody tr th {\n",
       "        vertical-align: top;\n",
       "    }\n",
       "\n",
       "    .dataframe thead th {\n",
       "        text-align: right;\n",
       "    }\n",
       "</style>\n",
       "<table border=\"1\" class=\"dataframe\">\n",
       "  <thead>\n",
       "    <tr style=\"text-align: right;\">\n",
       "      <th></th>\n",
       "      <th>count</th>\n",
       "      <th>mean</th>\n",
       "      <th>std</th>\n",
       "      <th>min</th>\n",
       "      <th>25%</th>\n",
       "      <th>50%</th>\n",
       "      <th>75%</th>\n",
       "      <th>max</th>\n",
       "    </tr>\n",
       "    <tr>\n",
       "      <th>platforms</th>\n",
       "      <th></th>\n",
       "      <th></th>\n",
       "      <th></th>\n",
       "      <th></th>\n",
       "      <th></th>\n",
       "      <th></th>\n",
       "      <th></th>\n",
       "      <th></th>\n",
       "    </tr>\n",
       "  </thead>\n",
       "  <tbody>\n",
       "    <tr>\n",
       "      <th>['linux']</th>\n",
       "      <td>6.0</td>\n",
       "      <td>8.500000</td>\n",
       "      <td>20.820663</td>\n",
       "      <td>0.0</td>\n",
       "      <td>0.0</td>\n",
       "      <td>0.0</td>\n",
       "      <td>0.0</td>\n",
       "      <td>51.0</td>\n",
       "    </tr>\n",
       "    <tr>\n",
       "      <th>['mac', 'linux']</th>\n",
       "      <td>1.0</td>\n",
       "      <td>63.000000</td>\n",
       "      <td>NaN</td>\n",
       "      <td>63.0</td>\n",
       "      <td>63.0</td>\n",
       "      <td>63.0</td>\n",
       "      <td>63.0</td>\n",
       "      <td>63.0</td>\n",
       "    </tr>\n",
       "    <tr>\n",
       "      <th>['mac']</th>\n",
       "      <td>21.0</td>\n",
       "      <td>9.238095</td>\n",
       "      <td>39.373728</td>\n",
       "      <td>0.0</td>\n",
       "      <td>0.0</td>\n",
       "      <td>0.0</td>\n",
       "      <td>2.0</td>\n",
       "      <td>181.0</td>\n",
       "    </tr>\n",
       "    <tr>\n",
       "      <th>['windows', 'linux']</th>\n",
       "      <td>2611.0</td>\n",
       "      <td>728.039065</td>\n",
       "      <td>25312.939429</td>\n",
       "      <td>0.0</td>\n",
       "      <td>0.0</td>\n",
       "      <td>2.0</td>\n",
       "      <td>18.0</td>\n",
       "      <td>1279700.0</td>\n",
       "    </tr>\n",
       "    <tr>\n",
       "      <th>['windows', 'mac', 'linux']</th>\n",
       "      <td>7362.0</td>\n",
       "      <td>811.990356</td>\n",
       "      <td>9500.161641</td>\n",
       "      <td>0.0</td>\n",
       "      <td>1.0</td>\n",
       "      <td>13.0</td>\n",
       "      <td>86.0</td>\n",
       "      <td>543537.0</td>\n",
       "    </tr>\n",
       "    <tr>\n",
       "      <th>['windows', 'mac']</th>\n",
       "      <td>6539.0</td>\n",
       "      <td>653.981954</td>\n",
       "      <td>9475.224799</td>\n",
       "      <td>0.0</td>\n",
       "      <td>0.0</td>\n",
       "      <td>6.0</td>\n",
       "      <td>42.0</td>\n",
       "      <td>475673.0</td>\n",
       "    </tr>\n",
       "    <tr>\n",
       "      <th>['windows']</th>\n",
       "      <td>54889.0</td>\n",
       "      <td>312.416859</td>\n",
       "      <td>6188.153042</td>\n",
       "      <td>0.0</td>\n",
       "      <td>0.0</td>\n",
       "      <td>2.0</td>\n",
       "      <td>14.0</td>\n",
       "      <td>571834.0</td>\n",
       "    </tr>\n",
       "  </tbody>\n",
       "</table>\n",
       "</div>"
      ],
      "text/plain": [
       "                               count        mean           std   min   25%  \\\n",
       "platforms                                                                    \n",
       "['linux']                        6.0    8.500000     20.820663   0.0   0.0   \n",
       "['mac', 'linux']                 1.0   63.000000           NaN  63.0  63.0   \n",
       "['mac']                         21.0    9.238095     39.373728   0.0   0.0   \n",
       "['windows', 'linux']          2611.0  728.039065  25312.939429   0.0   0.0   \n",
       "['windows', 'mac', 'linux']   7362.0  811.990356   9500.161641   0.0   1.0   \n",
       "['windows', 'mac']            6539.0  653.981954   9475.224799   0.0   0.0   \n",
       "['windows']                  54889.0  312.416859   6188.153042   0.0   0.0   \n",
       "\n",
       "                              50%   75%        max  \n",
       "platforms                                           \n",
       "['linux']                     0.0   0.0       51.0  \n",
       "['mac', 'linux']             63.0  63.0       63.0  \n",
       "['mac']                       0.0   2.0      181.0  \n",
       "['windows', 'linux']          2.0  18.0  1279700.0  \n",
       "['windows', 'mac', 'linux']  13.0  86.0   543537.0  \n",
       "['windows', 'mac']            6.0  42.0   475673.0  \n",
       "['windows']                   2.0  14.0   571834.0  "
      ]
     },
     "execution_count": 13,
     "metadata": {},
     "output_type": "execute_result"
    }
   ],
   "source": [
    "df2.total_reviews.agg('describe')"
   ]
  },
  {
   "cell_type": "markdown",
   "id": "f74b3182",
   "metadata": {},
   "source": [
    "Wnioski: \n",
    "- trzy pierwsze kategorie z uwagi na mało liczną próbkę nie są interesujące. W dalszej analizie nie będę ponownie poruszałtej kwestii\n",
    "- co ciekawe największa zaobserwowana liczba ocen nie występuje przy najliczniej reprezentowanej grupie (windows), a przy jednej z mniej licznych, przy tej samej kategorii odchylenie standardowe również jest największe (pewnie przez wartości odstające)\n",
    "- widać też, że większośc gier nie ma wysokiej liczby ocen, przy dwóch najpopularniejszych kategoriach kwantyl rzędu 50% nie przekracza 13!"
   ]
  },
  {
   "cell_type": "code",
   "execution_count": 14,
   "id": "bae439d5",
   "metadata": {},
   "outputs": [
    {
     "data": {
      "text/html": [
       "<div>\n",
       "<style scoped>\n",
       "    .dataframe tbody tr th:only-of-type {\n",
       "        vertical-align: middle;\n",
       "    }\n",
       "\n",
       "    .dataframe tbody tr th {\n",
       "        vertical-align: top;\n",
       "    }\n",
       "\n",
       "    .dataframe thead th {\n",
       "        text-align: right;\n",
       "    }\n",
       "</style>\n",
       "<table border=\"1\" class=\"dataframe\">\n",
       "  <thead>\n",
       "    <tr style=\"text-align: right;\">\n",
       "      <th></th>\n",
       "      <th>count</th>\n",
       "      <th>mean</th>\n",
       "      <th>std</th>\n",
       "      <th>min</th>\n",
       "      <th>25%</th>\n",
       "      <th>50%</th>\n",
       "      <th>75%</th>\n",
       "      <th>max</th>\n",
       "    </tr>\n",
       "    <tr>\n",
       "      <th>platforms</th>\n",
       "      <th></th>\n",
       "      <th></th>\n",
       "      <th></th>\n",
       "      <th></th>\n",
       "      <th></th>\n",
       "      <th></th>\n",
       "      <th></th>\n",
       "      <th></th>\n",
       "    </tr>\n",
       "  </thead>\n",
       "  <tbody>\n",
       "    <tr>\n",
       "      <th>['linux']</th>\n",
       "      <td>6.0</td>\n",
       "      <td>3.333333</td>\n",
       "      <td>8.164966</td>\n",
       "      <td>0.0</td>\n",
       "      <td>0.0</td>\n",
       "      <td>0.0</td>\n",
       "      <td>0.0</td>\n",
       "      <td>20.0</td>\n",
       "    </tr>\n",
       "    <tr>\n",
       "      <th>['mac', 'linux']</th>\n",
       "      <td>1.0</td>\n",
       "      <td>53.000000</td>\n",
       "      <td>NaN</td>\n",
       "      <td>53.0</td>\n",
       "      <td>53.0</td>\n",
       "      <td>53.0</td>\n",
       "      <td>53.0</td>\n",
       "      <td>53.0</td>\n",
       "    </tr>\n",
       "    <tr>\n",
       "      <th>['mac']</th>\n",
       "      <td>21.0</td>\n",
       "      <td>5.571429</td>\n",
       "      <td>23.716179</td>\n",
       "      <td>0.0</td>\n",
       "      <td>0.0</td>\n",
       "      <td>0.0</td>\n",
       "      <td>0.0</td>\n",
       "      <td>109.0</td>\n",
       "    </tr>\n",
       "    <tr>\n",
       "      <th>['windows', 'linux']</th>\n",
       "      <td>2611.0</td>\n",
       "      <td>633.594025</td>\n",
       "      <td>21915.183442</td>\n",
       "      <td>0.0</td>\n",
       "      <td>0.0</td>\n",
       "      <td>2.0</td>\n",
       "      <td>14.0</td>\n",
       "      <td>1107275.0</td>\n",
       "    </tr>\n",
       "    <tr>\n",
       "      <th>['windows', 'mac', 'linux']</th>\n",
       "      <td>7362.0</td>\n",
       "      <td>750.679571</td>\n",
       "      <td>9195.900747</td>\n",
       "      <td>0.0</td>\n",
       "      <td>0.0</td>\n",
       "      <td>9.0</td>\n",
       "      <td>67.0</td>\n",
       "      <td>531256.0</td>\n",
       "    </tr>\n",
       "    <tr>\n",
       "      <th>['windows', 'mac']</th>\n",
       "      <td>6539.0</td>\n",
       "      <td>597.840648</td>\n",
       "      <td>8725.336961</td>\n",
       "      <td>0.0</td>\n",
       "      <td>0.0</td>\n",
       "      <td>4.0</td>\n",
       "      <td>31.5</td>\n",
       "      <td>414683.0</td>\n",
       "    </tr>\n",
       "    <tr>\n",
       "      <th>['windows']</th>\n",
       "      <td>54889.0</td>\n",
       "      <td>266.722695</td>\n",
       "      <td>5306.713435</td>\n",
       "      <td>0.0</td>\n",
       "      <td>0.0</td>\n",
       "      <td>1.0</td>\n",
       "      <td>10.0</td>\n",
       "      <td>485431.0</td>\n",
       "    </tr>\n",
       "  </tbody>\n",
       "</table>\n",
       "</div>"
      ],
      "text/plain": [
       "                               count        mean           std   min   25%  \\\n",
       "platforms                                                                    \n",
       "['linux']                        6.0    3.333333      8.164966   0.0   0.0   \n",
       "['mac', 'linux']                 1.0   53.000000           NaN  53.0  53.0   \n",
       "['mac']                         21.0    5.571429     23.716179   0.0   0.0   \n",
       "['windows', 'linux']          2611.0  633.594025  21915.183442   0.0   0.0   \n",
       "['windows', 'mac', 'linux']   7362.0  750.679571   9195.900747   0.0   0.0   \n",
       "['windows', 'mac']            6539.0  597.840648   8725.336961   0.0   0.0   \n",
       "['windows']                  54889.0  266.722695   5306.713435   0.0   0.0   \n",
       "\n",
       "                              50%   75%        max  \n",
       "platforms                                           \n",
       "['linux']                     0.0   0.0       20.0  \n",
       "['mac', 'linux']             53.0  53.0       53.0  \n",
       "['mac']                       0.0   0.0      109.0  \n",
       "['windows', 'linux']          2.0  14.0  1107275.0  \n",
       "['windows', 'mac', 'linux']   9.0  67.0   531256.0  \n",
       "['windows', 'mac']            4.0  31.5   414683.0  \n",
       "['windows']                   1.0  10.0   485431.0  "
      ]
     },
     "execution_count": 14,
     "metadata": {},
     "output_type": "execute_result"
    }
   ],
   "source": [
    "df2.total_positive.agg('describe')"
   ]
  },
  {
   "cell_type": "markdown",
   "id": "3146b9df",
   "metadata": {},
   "source": [
    "Do analogicznych wniosków można dojść przyglądając się tej kategorii. Również jest to zmienna ilościowa, zatem wyniki są bardzo zbliżone."
   ]
  },
  {
   "cell_type": "code",
   "execution_count": 15,
   "id": "0bc4a4a3",
   "metadata": {},
   "outputs": [
    {
     "data": {
      "text/html": [
       "<div>\n",
       "<style scoped>\n",
       "    .dataframe tbody tr th:only-of-type {\n",
       "        vertical-align: middle;\n",
       "    }\n",
       "\n",
       "    .dataframe tbody tr th {\n",
       "        vertical-align: top;\n",
       "    }\n",
       "\n",
       "    .dataframe thead th {\n",
       "        text-align: right;\n",
       "    }\n",
       "</style>\n",
       "<table border=\"1\" class=\"dataframe\">\n",
       "  <thead>\n",
       "    <tr style=\"text-align: right;\">\n",
       "      <th></th>\n",
       "      <th>count</th>\n",
       "      <th>mean</th>\n",
       "      <th>std</th>\n",
       "      <th>min</th>\n",
       "      <th>25%</th>\n",
       "      <th>50%</th>\n",
       "      <th>75%</th>\n",
       "      <th>max</th>\n",
       "    </tr>\n",
       "    <tr>\n",
       "      <th>platforms</th>\n",
       "      <th></th>\n",
       "      <th></th>\n",
       "      <th></th>\n",
       "      <th></th>\n",
       "      <th></th>\n",
       "      <th></th>\n",
       "      <th></th>\n",
       "      <th></th>\n",
       "    </tr>\n",
       "  </thead>\n",
       "  <tbody>\n",
       "    <tr>\n",
       "      <th>['linux']</th>\n",
       "      <td>6.0</td>\n",
       "      <td>6.533333</td>\n",
       "      <td>16.003333</td>\n",
       "      <td>0.0</td>\n",
       "      <td>0.0</td>\n",
       "      <td>0.0</td>\n",
       "      <td>0.00</td>\n",
       "      <td>39.2</td>\n",
       "    </tr>\n",
       "    <tr>\n",
       "      <th>['mac', 'linux']</th>\n",
       "      <td>1.0</td>\n",
       "      <td>84.100000</td>\n",
       "      <td>NaN</td>\n",
       "      <td>84.1</td>\n",
       "      <td>84.1</td>\n",
       "      <td>84.1</td>\n",
       "      <td>84.10</td>\n",
       "      <td>84.1</td>\n",
       "    </tr>\n",
       "    <tr>\n",
       "      <th>['mac']</th>\n",
       "      <td>21.0</td>\n",
       "      <td>15.961905</td>\n",
       "      <td>30.739721</td>\n",
       "      <td>0.0</td>\n",
       "      <td>0.0</td>\n",
       "      <td>0.0</td>\n",
       "      <td>0.00</td>\n",
       "      <td>100.0</td>\n",
       "    </tr>\n",
       "    <tr>\n",
       "      <th>['windows', 'linux']</th>\n",
       "      <td>2611.0</td>\n",
       "      <td>48.954653</td>\n",
       "      <td>43.379834</td>\n",
       "      <td>0.0</td>\n",
       "      <td>0.0</td>\n",
       "      <td>61.1</td>\n",
       "      <td>92.90</td>\n",
       "      <td>100.0</td>\n",
       "    </tr>\n",
       "    <tr>\n",
       "      <th>['windows', 'mac', 'linux']</th>\n",
       "      <td>7362.0</td>\n",
       "      <td>59.731608</td>\n",
       "      <td>38.545051</td>\n",
       "      <td>0.0</td>\n",
       "      <td>0.0</td>\n",
       "      <td>75.6</td>\n",
       "      <td>91.90</td>\n",
       "      <td>100.0</td>\n",
       "    </tr>\n",
       "    <tr>\n",
       "      <th>['windows', 'mac']</th>\n",
       "      <td>6539.0</td>\n",
       "      <td>53.379829</td>\n",
       "      <td>41.300621</td>\n",
       "      <td>0.0</td>\n",
       "      <td>0.0</td>\n",
       "      <td>69.0</td>\n",
       "      <td>91.65</td>\n",
       "      <td>100.0</td>\n",
       "    </tr>\n",
       "    <tr>\n",
       "      <th>['windows']</th>\n",
       "      <td>54889.0</td>\n",
       "      <td>43.301068</td>\n",
       "      <td>41.941598</td>\n",
       "      <td>0.0</td>\n",
       "      <td>0.0</td>\n",
       "      <td>48.6</td>\n",
       "      <td>85.70</td>\n",
       "      <td>100.0</td>\n",
       "    </tr>\n",
       "  </tbody>\n",
       "</table>\n",
       "</div>"
      ],
      "text/plain": [
       "                               count       mean        std   min   25%   50%  \\\n",
       "platforms                                                                      \n",
       "['linux']                        6.0   6.533333  16.003333   0.0   0.0   0.0   \n",
       "['mac', 'linux']                 1.0  84.100000        NaN  84.1  84.1  84.1   \n",
       "['mac']                         21.0  15.961905  30.739721   0.0   0.0   0.0   \n",
       "['windows', 'linux']          2611.0  48.954653  43.379834   0.0   0.0  61.1   \n",
       "['windows', 'mac', 'linux']   7362.0  59.731608  38.545051   0.0   0.0  75.6   \n",
       "['windows', 'mac']            6539.0  53.379829  41.300621   0.0   0.0  69.0   \n",
       "['windows']                  54889.0  43.301068  41.941598   0.0   0.0  48.6   \n",
       "\n",
       "                               75%    max  \n",
       "platforms                                  \n",
       "['linux']                     0.00   39.2  \n",
       "['mac', 'linux']             84.10   84.1  \n",
       "['mac']                       0.00  100.0  \n",
       "['windows', 'linux']         92.90  100.0  \n",
       "['windows', 'mac', 'linux']  91.90  100.0  \n",
       "['windows', 'mac']           91.65  100.0  \n",
       "['windows']                  85.70  100.0  "
      ]
     },
     "execution_count": 15,
     "metadata": {},
     "output_type": "execute_result"
    }
   ],
   "source": [
    "df2.positive_percentual.agg('describe')"
   ]
  },
  {
   "cell_type": "markdown",
   "id": "ae005f92",
   "metadata": {},
   "source": [
    "Wnioski:\n",
    "- przyjmując za wyznacznik jakości średnią, możemy dojść do wniosku, że to gry wydawane na wszystckih trzech platformach są najlepiej odbierane\n",
    "- odchylenie standardowe znowu jest największe w grupie windows/linuks (dalej wzmacnia to tezę, że jest to kategoria o największej liczbie wartości odstających)\n",
    "- większa próbka skutkuje średnio gorszymi ocenami, świadczą o tym wyniki platformy windows (kwantyl 75% najmniejszy z głównej czwórki)"
   ]
  },
  {
   "cell_type": "code",
   "execution_count": 16,
   "id": "2e6c1cf8",
   "metadata": {},
   "outputs": [
    {
     "data": {
      "text/html": [
       "<div>\n",
       "<style scoped>\n",
       "    .dataframe tbody tr th:only-of-type {\n",
       "        vertical-align: middle;\n",
       "    }\n",
       "\n",
       "    .dataframe tbody tr th {\n",
       "        vertical-align: top;\n",
       "    }\n",
       "\n",
       "    .dataframe thead th {\n",
       "        text-align: right;\n",
       "    }\n",
       "</style>\n",
       "<table border=\"1\" class=\"dataframe\">\n",
       "  <thead>\n",
       "    <tr style=\"text-align: right;\">\n",
       "      <th></th>\n",
       "      <th>count</th>\n",
       "      <th>mean</th>\n",
       "      <th>std</th>\n",
       "      <th>min</th>\n",
       "      <th>25%</th>\n",
       "      <th>50%</th>\n",
       "      <th>75%</th>\n",
       "      <th>max</th>\n",
       "    </tr>\n",
       "    <tr>\n",
       "      <th>platforms</th>\n",
       "      <th></th>\n",
       "      <th></th>\n",
       "      <th></th>\n",
       "      <th></th>\n",
       "      <th></th>\n",
       "      <th></th>\n",
       "      <th></th>\n",
       "      <th></th>\n",
       "    </tr>\n",
       "  </thead>\n",
       "  <tbody>\n",
       "    <tr>\n",
       "      <th>['linux']</th>\n",
       "      <td>6.0</td>\n",
       "      <td>5.830000</td>\n",
       "      <td>12.003056</td>\n",
       "      <td>0.00</td>\n",
       "      <td>0.00</td>\n",
       "      <td>0.00</td>\n",
       "      <td>3.7425</td>\n",
       "      <td>29.99</td>\n",
       "    </tr>\n",
       "    <tr>\n",
       "      <th>['mac', 'linux']</th>\n",
       "      <td>1.0</td>\n",
       "      <td>4.990000</td>\n",
       "      <td>NaN</td>\n",
       "      <td>4.99</td>\n",
       "      <td>4.99</td>\n",
       "      <td>4.99</td>\n",
       "      <td>4.9900</td>\n",
       "      <td>4.99</td>\n",
       "    </tr>\n",
       "    <tr>\n",
       "      <th>['mac']</th>\n",
       "      <td>21.0</td>\n",
       "      <td>9.948095</td>\n",
       "      <td>15.972765</td>\n",
       "      <td>0.00</td>\n",
       "      <td>0.00</td>\n",
       "      <td>0.00</td>\n",
       "      <td>14.9900</td>\n",
       "      <td>49.99</td>\n",
       "    </tr>\n",
       "    <tr>\n",
       "      <th>['windows', 'linux']</th>\n",
       "      <td>2611.0</td>\n",
       "      <td>5.123516</td>\n",
       "      <td>6.510961</td>\n",
       "      <td>0.00</td>\n",
       "      <td>0.00</td>\n",
       "      <td>2.99</td>\n",
       "      <td>7.9900</td>\n",
       "      <td>99.99</td>\n",
       "    </tr>\n",
       "    <tr>\n",
       "      <th>['windows', 'mac', 'linux']</th>\n",
       "      <td>7362.0</td>\n",
       "      <td>10.187775</td>\n",
       "      <td>25.476291</td>\n",
       "      <td>0.00</td>\n",
       "      <td>0.99</td>\n",
       "      <td>4.99</td>\n",
       "      <td>9.9900</td>\n",
       "      <td>199.99</td>\n",
       "    </tr>\n",
       "    <tr>\n",
       "      <th>['windows', 'mac']</th>\n",
       "      <td>6539.0</td>\n",
       "      <td>6.597549</td>\n",
       "      <td>9.782732</td>\n",
       "      <td>0.00</td>\n",
       "      <td>0.00</td>\n",
       "      <td>4.99</td>\n",
       "      <td>9.9900</td>\n",
       "      <td>269.99</td>\n",
       "    </tr>\n",
       "    <tr>\n",
       "      <th>['windows']</th>\n",
       "      <td>54889.0</td>\n",
       "      <td>6.094692</td>\n",
       "      <td>11.119004</td>\n",
       "      <td>0.00</td>\n",
       "      <td>0.00</td>\n",
       "      <td>2.99</td>\n",
       "      <td>8.9900</td>\n",
       "      <td>999.98</td>\n",
       "    </tr>\n",
       "  </tbody>\n",
       "</table>\n",
       "</div>"
      ],
      "text/plain": [
       "                               count       mean        std   min   25%   50%  \\\n",
       "platforms                                                                      \n",
       "['linux']                        6.0   5.830000  12.003056  0.00  0.00  0.00   \n",
       "['mac', 'linux']                 1.0   4.990000        NaN  4.99  4.99  4.99   \n",
       "['mac']                         21.0   9.948095  15.972765  0.00  0.00  0.00   \n",
       "['windows', 'linux']          2611.0   5.123516   6.510961  0.00  0.00  2.99   \n",
       "['windows', 'mac', 'linux']   7362.0  10.187775  25.476291  0.00  0.99  4.99   \n",
       "['windows', 'mac']            6539.0   6.597549   9.782732  0.00  0.00  4.99   \n",
       "['windows']                  54889.0   6.094692  11.119004  0.00  0.00  2.99   \n",
       "\n",
       "                                 75%     max  \n",
       "platforms                                     \n",
       "['linux']                     3.7425   29.99  \n",
       "['mac', 'linux']              4.9900    4.99  \n",
       "['mac']                      14.9900   49.99  \n",
       "['windows', 'linux']          7.9900   99.99  \n",
       "['windows', 'mac', 'linux']   9.9900  199.99  \n",
       "['windows', 'mac']            9.9900  269.99  \n",
       "['windows']                   8.9900  999.98  "
      ]
     },
     "execution_count": 16,
     "metadata": {},
     "output_type": "execute_result"
    }
   ],
   "source": [
    "df2['price_initial (USD)'].agg('describe')"
   ]
  },
  {
   "cell_type": "markdown",
   "id": "e20fdc4d",
   "metadata": {},
   "source": [
    "Wnioski:\n",
    "- gry wydane na wszystkich trzech platformach są średnio najdroższe, oraz mają wysokie odchylenie standardowe\n",
    "- kwantyle są raczej do siebie zbliżone co świadczy o podobnych trendach cenowych na każdej z platform."
   ]
  },
  {
   "cell_type": "markdown",
   "id": "20183f9d",
   "metadata": {},
   "source": [
    "##  (4) Analiza rozkładu cen dla 5 najpopularniejszych gatunków."
   ]
  },
  {
   "cell_type": "code",
   "execution_count": 17,
   "id": "70821133",
   "metadata": {},
   "outputs": [],
   "source": [
    "df['genres'] = df['genres'].apply(\n",
    "    lambda x: [genre.strip().strip(\"'\") for genre in x.strip(\"[]\").split(',')]\n",
    ")\n",
    "\n",
    "df_genres = df.explode('genres').rename(columns={'genres':'genre'})\n",
    "df_genres = df_genres.rename(columns={'price_initial (USD)':'price'})\n",
    "df_genres = df_genres[['genre','price']]\n",
    "\n",
    "genres = df_genres.genre.value_counts().head(4).index.tolist()\n",
    "df_genres = df_genres.loc[df_genres.genre.isin(genres)]"
   ]
  },
  {
   "cell_type": "code",
   "execution_count": 18,
   "id": "d1b9acff",
   "metadata": {},
   "outputs": [
    {
     "data": {
      "text/plain": [
       "genre\n",
       "Indie        50665\n",
       "Action       30986\n",
       "Adventure    29741\n",
       "Casual       28093\n",
       "Name: count, dtype: int64"
      ]
     },
     "execution_count": 18,
     "metadata": {},
     "output_type": "execute_result"
    }
   ],
   "source": [
    "df_genres.genre.value_counts().head(4)"
   ]
  },
  {
   "cell_type": "markdown",
   "id": "d37f17d2",
   "metadata": {},
   "source": [
    "Dla zobrazowania wyżej przedstawiliśmy licznośc 4 najpopularniejszych gatunków."
   ]
  },
  {
   "cell_type": "code",
   "execution_count": 19,
   "id": "ced365e1",
   "metadata": {},
   "outputs": [
    {
     "data": {
      "text/plain": [
       "Text(0, 0.5, 'Density')"
      ]
     },
     "execution_count": 19,
     "metadata": {},
     "output_type": "execute_result"
    },
    {
     "data": {
      "image/png": "[encoded data removed]",
      "text/plain": [
       "<Figure size 1000x600 with 1 Axes>"
      ]
     },
     "metadata": {},
     "output_type": "display_data"
    }
   ],
   "source": [
    "import matplotlib.pyplot as plt\n",
    "\n",
    "plt.figure(figsize=(10,6))\n",
    "for genre in genres:\n",
    "    subset = df_genres[df_genres.genre == genre]\n",
    "    subset = subset.loc[(subset.price >= subset.price.quantile(0.5)) & (subset.price <= subset.price.quantile(0.90)) ]\n",
    "    kde_plot = subset['price'].plot(kind = 'kde', label = genre)\n",
    "    line = kde_plot.get_lines()[-1]\n",
    "    x = line.get_xdata()\n",
    "    y = line.get_ydata()\n",
    "    plt.fill_between(x, y, alpha=0.1)\n",
    "plt.legend()\n",
    "plt.xlabel('Price')\n",
    "plt.ylabel('Density')"
   ]
  },
  {
   "cell_type": "markdown",
   "id": "33a76c7b",
   "metadata": {},
   "source": [
    "Wnioski:\n",
    "- pierwsza rzecz jaka rzuca się w oczy to wyrażny podział na pewne koszyki cenowe, większość gier ustala ceny będące wielokrotnościami piątki tj. 5$, 10$ itd.\n",
    "- średno najtańsze gry z tego zestawienia to te z gatunku *Casual*, w pewnym momencie obserwacje już nie zachodzą\n",
    "- najdroższe gry na podstawie rozkładu to te z gatunku *Adventure*, ceny 0siągają wartości, których nie osiągają inne gatunki"
   ]
  },
  {
   "cell_type": "markdown",
   "id": "673df746",
   "metadata": {},
   "source": [
    "## (5) Dwie wybrane zależności między zmiennymi."
   ]
  },
  {
   "cell_type": "markdown",
   "id": "a41eadca",
   "metadata": {},
   "source": [
    "#### (a) Wydawcy (top 5) a rozkład cen"
   ]
  },
  {
   "cell_type": "code",
   "execution_count": 20,
   "id": "7e26c47c",
   "metadata": {},
   "outputs": [
    {
     "data": {
      "text/plain": [
       "publishers\n",
       "[]                          493\n",
       "['Big Fish Games']          320\n",
       "['8floor']                  213\n",
       "['HH-Games']                138\n",
       "['Kagura Games']            119\n",
       "                           ... \n",
       "['Krunchy Love Studios']      1\n",
       "['Bloodbath Studios']         1\n",
       "['Taylor McCue']              1\n",
       "['Dreamer']                   1\n",
       "['Giammnn']                   1\n",
       "Name: count, Length: 44187, dtype: int64"
      ]
     },
     "execution_count": 20,
     "metadata": {},
     "output_type": "execute_result"
    }
   ],
   "source": [
    "df_publishers = df[['publishers','price_initial (USD)']]\n",
    "df_publishers.publishers.value_counts()"
   ]
  },
  {
   "cell_type": "code",
   "execution_count": 28,
   "id": "639dc3ac",
   "metadata": {},
   "outputs": [],
   "source": [
    "df_publishers = df_publishers.loc[df_publishers.publishers != '[]']\n",
    "publishers = df_publishers.publishers.value_counts().head(5).index"
   ]
  },
  {
   "cell_type": "code",
   "execution_count": 34,
   "id": "72f16f9f",
   "metadata": {},
   "outputs": [
    {
     "data": {
      "image/png": "[encoded data removed]",
      "text/plain": [
       "<Figure size 1000x600 with 1 Axes>"
      ]
     },
     "metadata": {},
     "output_type": "display_data"
    }
   ],
   "source": [
    "import seaborn as sns\n",
    "df_publishers = df_publishers.loc[df_publishers.publishers.isin(publishers)]\n",
    "plt.figure(figsize=(10,6))\n",
    "sns.violinplot(data=df_publishers, x='publishers', y='price_initial (USD)',hue='publishers' ,palette='Set2', cut=0, legend=False)\n",
    "plt.show()"
   ]
  },
  {
   "cell_type": "markdown",
   "id": "faa4daee",
   "metadata": {},
   "source": [
    "Wnioski:\n",
    "- jest duża rozbieżność cenowa\n",
    "- średnio najdroższe gry robi *Kagura Games* a najtańsze *Conglomerate 5*"
   ]
  },
  {
   "cell_type": "markdown",
   "id": "1deb7b80",
   "metadata": {},
   "source": [
    "### (b) deweloperzy (top5) a rozkład pozytywnych ocen "
   ]
  },
  {
   "cell_type": "code",
   "execution_count": 50,
   "id": "99876139",
   "metadata": {},
   "outputs": [
    {
     "data": {
      "text/plain": [
       "developers\n",
       "['Creobit']                                                             122\n",
       "['Choice of Games']                                                     107\n",
       "['Laush Dmitriy Sergeevich']                                             99\n",
       "['KOEI TECMO GAMES CO., LTD.']                                           79\n",
       "['EroticGamesClub']                                                      76\n",
       "                                                                       ... \n",
       "['Motion Game Studio']                                                    1\n",
       "['Nextout Games']                                                         1\n",
       "['Ted Bendixson', 'Niall Reynolds', 'Christopher Wu', 'Pixelmancer']      1\n",
       "['Selecta Play']                                                          1\n",
       "['DY']                                                                    1\n",
       "Name: count, Length: 49544, dtype: int64"
      ]
     },
     "execution_count": 50,
     "metadata": {},
     "output_type": "execute_result"
    }
   ],
   "source": [
    "df_developers = df[['developers','positive_percentual']]\n",
    "df_developers = df_developers.loc[df_developers.developers != '[]']\n",
    "df_developers.developers.value_counts()"
   ]
  },
  {
   "cell_type": "markdown",
   "id": "7a176037",
   "metadata": {},
   "source": [
    "Ze względów obyczajowo-moralnych wykreślamy piątego developera:"
   ]
  },
  {
   "cell_type": "code",
   "execution_count": 51,
   "id": "24b4a3be",
   "metadata": {},
   "outputs": [],
   "source": [
    "df_developers = df_developers.loc[df_developers.developers != \"['EroticGamesClub']\"]"
   ]
  },
  {
   "cell_type": "code",
   "execution_count": 52,
   "id": "c9435e56",
   "metadata": {},
   "outputs": [],
   "source": [
    "developers = df_developers.developers.value_counts().head(5).index"
   ]
  },
  {
   "cell_type": "code",
   "execution_count": 55,
   "id": "2d6370fe",
   "metadata": {},
   "outputs": [
    {
     "data": {
      "image/png": "[encoded data removed]",
      "text/plain": [
       "<Figure size 1000x600 with 1 Axes>"
      ]
     },
     "metadata": {},
     "output_type": "display_data"
    }
   ],
   "source": [
    "df_developers = df_developers.loc[df_developers.developers.isin(developers)]\n",
    "plt.figure(figsize=(10,6))\n",
    "sns.violinplot(data=df_developers, x='developers', y='positive_percentual',hue='developers' ,palette='Set2', cut=0)\n",
    "plt.xticks(fontsize = 8)\n",
    "plt.show()"
   ]
  },
  {
   "cell_type": "markdown",
   "id": "0009a309",
   "metadata": {},
   "source": [
    "Wnioski:\n",
    "- Pierwszy developer od lewej ma 'najlepszy' rozkład wśród wybranych developerów\n",
    "- *Creobit* ma najbardziej nierówny rozkład, znacząco się rózni od pozostałych"
   ]
  },
  {
   "cell_type": "markdown",
   "id": "51cfd80d",
   "metadata": {},
   "source": []
  }
 ],
 "metadata": {
  "kernelspec": {
   "display_name": "Python (Python_Wed)",
   "language": "python",
   "name": "python_wed"
  },
  "language_info": {
   "codemirror_mode": {
    "name": "ipython",
    "version": 3
   },
   "file_extension": ".py",
   "mimetype": "text/x-python",
   "name": "python",
   "nbconvert_exporter": "python",
   "pygments_lexer": "ipython3",
   "version": "3.11.11"
  }
 },
 "nbformat": 4,
 "nbformat_minor": 5
}
